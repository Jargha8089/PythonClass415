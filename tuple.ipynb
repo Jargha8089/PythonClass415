{
 "cells": [
  {
   "cell_type": "code",
   "execution_count": null,
   "id": "4df75703",
   "metadata": {},
   "outputs": [],
   "source": [
    "# tuple\n",
    "# -indexing\n",
    "# -ordered\n",
    "# -Multiple and duplicate value\n",
    "# -Imutable"
   ]
  },
  {
   "cell_type": "code",
   "execution_count": 2,
   "id": "f975f9ce",
   "metadata": {},
   "outputs": [
    {
     "name": "stdout",
     "output_type": "stream",
     "text": [
      "<class 'tuple'>\n",
      "<class 'tuple'>\n"
     ]
    }
   ],
   "source": [
    "a = tuple()\n",
    "t = (\"Apple\",\"Ball\",\"Cat\",\"Dog\")\n",
    "r = (1,2,3,4,5,6,7,8,9)\n",
    "print(type(t))\n",
    "print(type(r))"
   ]
  },
  {
   "cell_type": "code",
   "execution_count": 4,
   "id": "9a07500b",
   "metadata": {},
   "outputs": [
    {
     "name": "stdout",
     "output_type": "stream",
     "text": [
      "<class 'tuple'>\n",
      "<class 'str'>\n",
      "<class 'tuple'>\n"
     ]
    }
   ],
   "source": [
    "a = ()#tuple\n",
    "b = (\"Apple\")#not tuple\n",
    "c = (\"Apple\",)#to make tuple , is needed\n",
    "print(type(a))\n",
    "print(type(b))\n",
    "print(type(c))"
   ]
  },
  {
   "cell_type": "code",
   "execution_count": null,
   "id": "31fd5545",
   "metadata": {},
   "outputs": [],
   "source": [
    "# no append() insert() extend()\n",
    "# no update()\n",
    "# no del remove() pop()"
   ]
  },
  {
   "cell_type": "code",
   "execution_count": 7,
   "id": "3225146d",
   "metadata": {},
   "outputs": [
    {
     "data": {
      "text/plain": [
       "('Apple', 'Ball')"
      ]
     },
     "execution_count": 7,
     "metadata": {},
     "output_type": "execute_result"
    }
   ],
   "source": [
    "a = ()\n",
    "b = (\"Apple\",)\n",
    "c = (\"Ball\",)\n",
    "d = a+b+c\n",
    "d"
   ]
  },
  {
   "cell_type": "code",
   "execution_count": 9,
   "id": "551a6324",
   "metadata": {},
   "outputs": [
    {
     "name": "stdout",
     "output_type": "stream",
     "text": [
      "Enter n =4\n",
      "Enter x = dsad\n",
      "Enter x = fdfd\n",
      "Enter x = hggh\n",
      "Enter x = ertr\n",
      "('dsad', 'fdfd', 'hggh', 'ertr')\n"
     ]
    }
   ],
   "source": [
    "n = int(input(\"Enter n =\"))\n",
    "l = ()\n",
    "for i in range(n):\n",
    "    x = input(\"Enter x = \")\n",
    "    l = l+(x,)\n",
    "    \n",
    "print(l)"
   ]
  },
  {
   "cell_type": "code",
   "execution_count": 10,
   "id": "230d37ea",
   "metadata": {},
   "outputs": [
    {
     "data": {
      "text/plain": [
       "(123, 3654, 76578, 5234, 13, 676)"
      ]
     },
     "execution_count": 10,
     "metadata": {},
     "output_type": "execute_result"
    }
   ],
   "source": [
    "a = 123,3654,76578,5234,13,676,\n",
    "a"
   ]
  },
  {
   "cell_type": "code",
   "execution_count": null,
   "id": "cf59029e",
   "metadata": {},
   "outputs": [],
   "source": [
    "# sum() max() min() index()"
   ]
  },
  {
   "cell_type": "code",
   "execution_count": 11,
   "id": "51d49cbf",
   "metadata": {},
   "outputs": [
    {
     "data": {
      "text/plain": [
       "[123, 565, 898, 453, 9, 1111]"
      ]
     },
     "execution_count": 11,
     "metadata": {},
     "output_type": "execute_result"
    }
   ],
   "source": [
    "a = (123,565,898,453,9,1111)\n",
    "b = list(a)\n",
    "b"
   ]
  },
  {
   "cell_type": "code",
   "execution_count": 12,
   "id": "df689137",
   "metadata": {},
   "outputs": [
    {
     "data": {
      "text/plain": [
       "(1, 2, 3, 4, 5, 6, 7, 8, 9)"
      ]
     },
     "execution_count": 12,
     "metadata": {},
     "output_type": "execute_result"
    }
   ],
   "source": [
    "b = [1,2,3,4,5,6,7,8,9]\n",
    "a = tuple(b)\n",
    "a"
   ]
  },
  {
   "cell_type": "code",
   "execution_count": 15,
   "id": "2178a720",
   "metadata": {},
   "outputs": [
    {
     "name": "stdout",
     "output_type": "stream",
     "text": [
      "(123, 565, 342, 787, 1443)\n",
      "[123, 565, 342, 1443]\n",
      "(123, 565, 342, 1443)\n"
     ]
    }
   ],
   "source": [
    "a = (123,565,342,787,1443)\n",
    "print(a)\n",
    "b = list(a)\n",
    "del b[3]\n",
    "print(b)\n",
    "c = tuple(b)\n",
    "print(c)"
   ]
  },
  {
   "cell_type": "code",
   "execution_count": null,
   "id": "16f68711",
   "metadata": {},
   "outputs": [],
   "source": []
  }
 ],
 "metadata": {
  "kernelspec": {
   "display_name": "Python 3 (ipykernel)",
   "language": "python",
   "name": "python3"
  },
  "language_info": {
   "codemirror_mode": {
    "name": "ipython",
    "version": 3
   },
   "file_extension": ".py",
   "mimetype": "text/x-python",
   "name": "python",
   "nbconvert_exporter": "python",
   "pygments_lexer": "ipython3",
   "version": "3.9.13"
  }
 },
 "nbformat": 4,
 "nbformat_minor": 5
}
