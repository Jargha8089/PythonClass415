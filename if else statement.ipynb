{
 "cells": [
  {
   "cell_type": "code",
   "execution_count": 1,
   "id": "9b54a55d",
   "metadata": {},
   "outputs": [],
   "source": [
    "# if <condition>:\n",
    "#     <operations>\n",
    "# elif <condition>:\n",
    "#     <operation>\n",
    "#     ...\n",
    "# else:\n",
    "#     <operation>"
   ]
  },
  {
   "cell_type": "code",
   "execution_count": 2,
   "id": "10099294",
   "metadata": {},
   "outputs": [],
   "source": [
    "# > < >= <= == !="
   ]
  },
  {
   "cell_type": "code",
   "execution_count": 4,
   "id": "2a7d8e06",
   "metadata": {},
   "outputs": [
    {
     "name": "stdout",
     "output_type": "stream",
     "text": [
      "False\n"
     ]
    }
   ],
   "source": [
    "a = 11\n",
    "print(a<0)"
   ]
  },
  {
   "cell_type": "code",
   "execution_count": 5,
   "id": "09f9a2cd",
   "metadata": {},
   "outputs": [
    {
     "name": "stdout",
     "output_type": "stream",
     "text": [
      "False\n",
      "True\n"
     ]
    }
   ],
   "source": [
    "a = 11\n",
    "print(a<0)\n",
    "print(a>0)"
   ]
  },
  {
   "cell_type": "code",
   "execution_count": 8,
   "id": "c7326555",
   "metadata": {},
   "outputs": [
    {
     "name": "stdout",
     "output_type": "stream",
     "text": [
      "True\n"
     ]
    }
   ],
   "source": [
    "a=20\n",
    "b=20\n",
    "print(a>=b)"
   ]
  },
  {
   "cell_type": "code",
   "execution_count": 9,
   "id": "4ad36885",
   "metadata": {},
   "outputs": [
    {
     "name": "stdout",
     "output_type": "stream",
     "text": [
      "True\n"
     ]
    }
   ],
   "source": [
    "a=20\n",
    "b=20\n",
    "print(a==b)"
   ]
  },
  {
   "cell_type": "code",
   "execution_count": 11,
   "id": "37b7252a",
   "metadata": {},
   "outputs": [
    {
     "name": "stdout",
     "output_type": "stream",
     "text": [
      "True\n"
     ]
    }
   ],
   "source": [
    "a=20\n",
    "b=90\n",
    "print(a!=b)"
   ]
  },
  {
   "cell_type": "code",
   "execution_count": 13,
   "id": "2e7f583d",
   "metadata": {},
   "outputs": [
    {
     "name": "stdout",
     "output_type": "stream",
     "text": [
      "Enter value of a = 33\n",
      "33  is odd\n"
     ]
    }
   ],
   "source": [
    "a = int(input(\"Enter value of a = \"))\n",
    "# print(a%2==0)\n",
    "if a%2==0:\n",
    "    print(a,\" is even\")\n",
    "else:\n",
    "    print(a,\" is odd\")"
   ]
  },
  {
   "cell_type": "code",
   "execution_count": 16,
   "id": "1ce5bf54",
   "metadata": {},
   "outputs": [
    {
     "name": "stdout",
     "output_type": "stream",
     "text": [
      "Enter the value of a = 10\n",
      "Enter the value of b = 10\n",
      "Both are equal\n"
     ]
    }
   ],
   "source": [
    "a = int(input(\"Enter the value of a = \"))\n",
    "b = int(input(\"Enter the value of b = \"))\n",
    "if a>b:\n",
    "    print(a,\"is greater than\",b)\n",
    "elif b>a:\n",
    "    print(b,\"is greater than\",a)\n",
    "else:\n",
    "    print(\"Both are equal\")\n",
    "    "
   ]
  },
  {
   "cell_type": "code",
   "execution_count": 19,
   "id": "71c8df42",
   "metadata": {},
   "outputs": [
    {
     "name": "stdout",
     "output_type": "stream",
     "text": [
      "Enter Physic marks = 45\n",
      "Enter Chemistry marks = 55\n",
      "Enter Math marks = 30\n",
      "Enter English marks = 60\n",
      "Enter Nepali marks = 76\n",
      "Total =  266.0\n",
      "Per =  53.2\n",
      "Grade = C\n"
     ]
    }
   ],
   "source": [
    "physic = float(input(\"Enter Physic marks = \"))\n",
    "chemistry = float(input(\"Enter Chemistry marks = \"))\n",
    "math = float(input(\"Enter Math marks = \"))\n",
    "english = float(input(\"Enter English marks = \"))\n",
    "nepali = float(input(\"Enter Nepali marks = \"))\n",
    "\n",
    "total=physic+chemistry+math+english+nepali\n",
    "per = total/5\n",
    "\n",
    "if per >= 80:\n",
    "    grade = \"A\"\n",
    "elif per >= 60:\n",
    "    grade = \"B\"\n",
    "elif per >= 45:\n",
    "    grade = \"C\"\n",
    "elif per >= 35:\n",
    "    grade = \"D\"\n",
    "else:\n",
    "    grade = \"F\"\n",
    "\n",
    "print(\"Total = \",total)\n",
    "print(\"Per = \",per)\n",
    "print(\"Grade =\",grade)"
   ]
  },
  {
   "cell_type": "code",
   "execution_count": 29,
   "id": "2bec4402",
   "metadata": {},
   "outputs": [
    {
     "name": "stdout",
     "output_type": "stream",
     "text": [
      "Enter a = 4\n",
      "Enter b = 5\n",
      "Enter operator = r\n",
      "Invalid Operator\n"
     ]
    }
   ],
   "source": [
    "a = int(input(\"Enter a = \"))\n",
    "b = int(input(\"Enter b = \"))\n",
    "o = input(\"Enter operator = \")\n",
    "if o == '+':\n",
    "    print(a+b)\n",
    "elif o =='-':\n",
    "    print(a-b)\n",
    "elif o =='*':\n",
    "    print(a*b)\n",
    "elif o =='/':\n",
    "    print(a/b)\n",
    "else:\n",
    "    print(\"Invalid Operator\")"
   ]
  },
  {
   "cell_type": "code",
   "execution_count": 30,
   "id": "7337d3b2",
   "metadata": {},
   "outputs": [],
   "source": [
    "# and &\n",
    "# or |"
   ]
  },
  {
   "cell_type": "code",
   "execution_count": 33,
   "id": "2fdc44dd",
   "metadata": {},
   "outputs": [
    {
     "name": "stdout",
     "output_type": "stream",
     "text": [
      "False\n",
      "True\n"
     ]
    }
   ],
   "source": [
    "a = True\n",
    "b = False\n",
    "\n",
    "print(a and b)\n",
    "print(a or b)"
   ]
  },
  {
   "cell_type": "code",
   "execution_count": 35,
   "id": "e35e0e42",
   "metadata": {},
   "outputs": [
    {
     "name": "stdout",
     "output_type": "stream",
     "text": [
      "Enter a = 4\n",
      "Enter b = 0\n",
      "Enter operator = /\n",
      "The value of b cann't be 0 \n"
     ]
    }
   ],
   "source": [
    "a = int(input(\"Enter a = \"))\n",
    "b = int(input(\"Enter b = \"))\n",
    "o = input(\"Enter operator = \")\n",
    "if o == '+':\n",
    "    print(a+b)\n",
    "elif o =='-':\n",
    "    print(a-b)\n",
    "elif o =='*':\n",
    "    print(a*b)\n",
    "elif (o =='/') and (b!=0): #bracket not necessary\n",
    "    print(a/b)\n",
    "elif o =='/' and b==0:\n",
    "    print(\"The value of b cann't be 0 \")\n",
    "else:\n",
    "    print(\"Invalid Operator\")"
   ]
  },
  {
   "cell_type": "code",
   "execution_count": 41,
   "id": "22524bff",
   "metadata": {},
   "outputs": [
    {
     "name": "stdout",
     "output_type": "stream",
     "text": [
      "Enter Physic marks = 59\n",
      "Enter Chemistry marks = 59\n",
      "Enter Math marks = 59\n",
      "Enter English marks = 59\n",
      "Enter Nepali marks = 59\n",
      "Total =  295.0\n",
      "Per =  59.0\n",
      "Grade = C\n"
     ]
    }
   ],
   "source": [
    "physic = float(input(\"Enter Physic marks = \"))\n",
    "chemistry = float(input(\"Enter Chemistry marks = \"))\n",
    "math = float(input(\"Enter Math marks = \"))\n",
    "english = float(input(\"Enter English marks = \"))\n",
    "nepali = float(input(\"Enter Nepali marks = \"))\n",
    "\n",
    "total=physic+chemistry+math+english+nepali\n",
    "per = total/5\n",
    "\n",
    "if per >= 80 or per == 80:\n",
    "    grade = \"A\"\n",
    "elif per >= 60 or per == 60:\n",
    "    grade = \"B\"\n",
    "elif per >= 45 or per == 45:\n",
    "    grade = \"C\"\n",
    "elif per >= 35 or per == 35:\n",
    "    grade = \"D\"\n",
    "else:\n",
    "    grade = \"F\"\n",
    "\n",
    "print(\"Total = \",total)\n",
    "print(\"Per = \",per)\n",
    "print(\"Grade =\",grade)"
   ]
  },
  {
   "cell_type": "code",
   "execution_count": 42,
   "id": "79e7930d",
   "metadata": {},
   "outputs": [],
   "source": [
    "# if <condition>:\n",
    "#     if <condition>:\n",
    "#         <operations>\n",
    "#     else:\n",
    "#         <operation>\n",
    "# else:\n",
    "#     <operation>"
   ]
  },
  {
   "cell_type": "code",
   "execution_count": 45,
   "id": "46be9ea0",
   "metadata": {},
   "outputs": [
    {
     "name": "stdout",
     "output_type": "stream",
     "text": [
      "Enter a = -2\n",
      "-2 is -ve\n"
     ]
    }
   ],
   "source": [
    "a = int(input(\"Enter a = \"))\n",
    "if a>0:\n",
    "    if a%2 == 0:\n",
    "        print(a,\"is even and positive\")\n",
    "    else:\n",
    "        print(a,\"is +ve but not even\")\n",
    "else:\n",
    "    print(a,\"is -ve\")"
   ]
  },
  {
   "cell_type": "code",
   "execution_count": 46,
   "id": "47ed943b",
   "metadata": {},
   "outputs": [
    {
     "name": "stdout",
     "output_type": "stream",
     "text": [
      "Enter a = 3\n",
      "Enter b = 0\n",
      "Enter operator = /\n",
      "The value of b can not be zero\n"
     ]
    }
   ],
   "source": [
    "a = int(input(\"Enter a = \"))\n",
    "b = int(input(\"Enter b = \"))\n",
    "o = input(\"Enter operator = \")\n",
    "if o == '+':\n",
    "    print(a+b)\n",
    "elif o =='-':\n",
    "    print(a-b)\n",
    "elif o =='*':\n",
    "    print(a*b)\n",
    "elif o =='/':\n",
    "    if b!=0:\n",
    "        print(a/b)\n",
    "    else:\n",
    "        print(\"The value of b can not be zero\")\n",
    "else:\n",
    "    print(\"Invalid Operator\")"
   ]
  },
  {
   "cell_type": "code",
   "execution_count": null,
   "id": "5248b77e",
   "metadata": {},
   "outputs": [],
   "source": [
    "# if <condition>:\n",
    "#     if <condition>:\n",
    "#         <operation>\n",
    "#     elif <condition>:\n",
    "#         if <condition>:\n",
    "#             <operation>\n",
    "#         else <condition>:\n",
    "#             <operation>\n",
    "#     else:\n",
    "#         <operation>\n",
    "# else:\n",
    "#     <operation>"
   ]
  }
 ],
 "metadata": {
  "kernelspec": {
   "display_name": "Python 3 (ipykernel)",
   "language": "python",
   "name": "python3"
  },
  "language_info": {
   "codemirror_mode": {
    "name": "ipython",
    "version": 3
   },
   "file_extension": ".py",
   "mimetype": "text/x-python",
   "name": "python",
   "nbconvert_exporter": "python",
   "pygments_lexer": "ipython3",
   "version": "3.9.13"
  }
 },
 "nbformat": 4,
 "nbformat_minor": 5
}
