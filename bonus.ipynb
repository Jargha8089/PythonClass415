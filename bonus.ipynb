{
 "cells": [
  {
   "cell_type": "code",
   "execution_count": null,
   "id": "e897f08f",
   "metadata": {},
   "outputs": [],
   "source": [
    "# Comprehensions: List, Dictionary"
   ]
  },
  {
   "cell_type": "code",
   "execution_count": 1,
   "id": "65ff167a",
   "metadata": {},
   "outputs": [
    {
     "name": "stdout",
     "output_type": "stream",
     "text": [
      "[0, 1, 2, 3, 4]\n"
     ]
    }
   ],
   "source": [
    "# list\n",
    "a = [i for i in range(5)]\n",
    "print(a)"
   ]
  },
  {
   "cell_type": "code",
   "execution_count": 2,
   "id": "98fed246",
   "metadata": {},
   "outputs": [
    {
     "name": "stdout",
     "output_type": "stream",
     "text": [
      "Enter value12\n",
      "Enter value13\n",
      "Enter value14\n",
      "Enter value15\n",
      "Enter value16\n",
      "[12, 13, 14, 15, 16]\n"
     ]
    }
   ],
   "source": [
    "a = [int(input(\"Enter value\")) for i in range(5)]\n",
    "print(a)"
   ]
  },
  {
   "cell_type": "markdown",
   "id": "a29edc0f",
   "metadata": {},
   "source": []
  },
  {
   "cell_type": "code",
   "execution_count": 3,
   "id": "30152bbc",
   "metadata": {},
   "outputs": [
    {
     "name": "stdout",
     "output_type": "stream",
     "text": [
      "Enter value44\n",
      "Enter value45\n",
      "Enter value46\n",
      "Enter value47\n",
      "Enter value48\n",
      "[44, 45, 46, 47, 48]\n"
     ]
    }
   ],
   "source": [
    "a = list(int(input(\"Enter value\")) for i in range(5))\n",
    "print(a)"
   ]
  },
  {
   "cell_type": "code",
   "execution_count": 4,
   "id": "7120bd36",
   "metadata": {},
   "outputs": [
    {
     "data": {
      "text/plain": [
       "['Apple', 'Ball', 'Dog']"
      ]
     },
     "execution_count": 4,
     "metadata": {},
     "output_type": "execute_result"
    }
   ],
   "source": [
    "data = [\"Apple\",\"Ball\",\"cat\",\"Dog\",\"egg\",\"fish\"]\n",
    "a = list(i for i in data if i[0].isupper())\n",
    "a"
   ]
  },
  {
   "cell_type": "code",
   "execution_count": 5,
   "id": "11b4ae84",
   "metadata": {},
   "outputs": [
    {
     "data": {
      "text/plain": [
       "{1: 1, 2: 4, 3: 9, 4: 16, 5: 25, 6: 36, 7: 49, 8: 64, 9: 81, 10: 100}"
      ]
     },
     "execution_count": 5,
     "metadata": {},
     "output_type": "execute_result"
    }
   ],
   "source": [
    "data = {i:i**2 for i in range(1,11)}\n",
    "data"
   ]
  },
  {
   "cell_type": "code",
   "execution_count": 6,
   "id": "8c86d371",
   "metadata": {},
   "outputs": [
    {
     "data": {
      "text/plain": [
       "['apple', 'ball', 'cat', 'dog', 'egg', 'fish']"
      ]
     },
     "execution_count": 6,
     "metadata": {},
     "output_type": "execute_result"
    }
   ],
   "source": [
    "a = [\"Apple\",\"Ball\",\"cat\",\"Dog\",\"egg\",\"fish\"]\n",
    "data = {i:i.lower() for i in a}\n",
    "list(data.values())"
   ]
  },
  {
   "cell_type": "code",
   "execution_count": 7,
   "id": "ae567df7",
   "metadata": {},
   "outputs": [
    {
     "data": {
      "text/plain": [
       "datetime.datetime(2022, 12, 4, 17, 8, 50, 834357)"
      ]
     },
     "execution_count": 7,
     "metadata": {},
     "output_type": "execute_result"
    }
   ],
   "source": [
    "# Python date & time\n",
    "import datetime\n",
    "\n",
    "x = datetime.datetime.now()\n",
    "x"
   ]
  },
  {
   "cell_type": "code",
   "execution_count": 8,
   "id": "9af1e541",
   "metadata": {},
   "outputs": [
    {
     "name": "stdout",
     "output_type": "stream",
     "text": [
      "Sun\n",
      "Sunday\n",
      "2022\n",
      "Sun Dec  4 17:08:51 2022\n"
     ]
    }
   ],
   "source": [
    "# for different format\n",
    "import datetime\n",
    "\n",
    "x = datetime.datetime.now()\n",
    "\n",
    "print(x.strftime(\"%a\"))\n",
    "print(x.strftime(\"%A\"))\n",
    "print(x.strftime(\"%Y\"))\n",
    "print(x.strftime(\"%c\"))"
   ]
  },
  {
   "cell_type": "code",
   "execution_count": 9,
   "id": "af35afee",
   "metadata": {},
   "outputs": [
    {
     "name": "stdout",
     "output_type": "stream",
     "text": [
      "Enter name = Jargha\n",
      "0:00:08.108855\n"
     ]
    }
   ],
   "source": [
    "# time taken to enter input\n",
    "import datetime\n",
    "\n",
    "x = datetime.datetime.now()\n",
    "name = input(\"Enter name = \")\n",
    "y = datetime.datetime.now()\n",
    "print(y-x)"
   ]
  },
  {
   "cell_type": "code",
   "execution_count": 10,
   "id": "7200dfab",
   "metadata": {},
   "outputs": [
    {
     "data": {
      "text/html": [
       "<div>\n",
       "<style scoped>\n",
       "    .dataframe tbody tr th:only-of-type {\n",
       "        vertical-align: middle;\n",
       "    }\n",
       "\n",
       "    .dataframe tbody tr th {\n",
       "        vertical-align: top;\n",
       "    }\n",
       "\n",
       "    .dataframe thead th {\n",
       "        text-align: right;\n",
       "    }\n",
       "</style>\n",
       "<table border=\"1\" class=\"dataframe\">\n",
       "  <thead>\n",
       "    <tr style=\"text-align: right;\">\n",
       "      <th></th>\n",
       "      <th>sn</th>\n",
       "      <th>name</th>\n",
       "      <th>age</th>\n",
       "      <th>add</th>\n",
       "      <th>phone</th>\n",
       "    </tr>\n",
       "  </thead>\n",
       "  <tbody>\n",
       "    <tr>\n",
       "      <th>0</th>\n",
       "      <td>5</td>\n",
       "      <td>Anjit</td>\n",
       "      <td>55</td>\n",
       "      <td>Harisiddhi</td>\n",
       "      <td>9809765432</td>\n",
       "    </tr>\n",
       "    <tr>\n",
       "      <th>1</th>\n",
       "      <td>6</td>\n",
       "      <td>Jack</td>\n",
       "      <td>98</td>\n",
       "      <td>Hatiban</td>\n",
       "      <td>9800112255</td>\n",
       "    </tr>\n",
       "  </tbody>\n",
       "</table>\n",
       "</div>"
      ],
      "text/plain": [
       "   sn   name  age         add       phone\n",
       "0   5  Anjit   55  Harisiddhi  9809765432\n",
       "1   6   Jack   98     Hatiban  9800112255"
      ]
     },
     "execution_count": 10,
     "metadata": {},
     "output_type": "execute_result"
    }
   ],
   "source": [
    "import pandas as pd\n",
    "df = pd.read_csv('new_data.csv')\n",
    "df\n",
    "\n",
    "# for excel file\n",
    "# df = pd.read_excel('filename.xlsx')\n",
    "# df"
   ]
  },
  {
   "cell_type": "code",
   "execution_count": 11,
   "id": "ab5b6867",
   "metadata": {},
   "outputs": [
    {
     "data": {
      "text/plain": [
       "['tuple.ipynb',\n",
       " 'mysql.ipynb',\n",
       " 'Screen Shot 2022-10-22 at 7.38.24 PM.png',\n",
       " 'function.ipynb',\n",
       " '.DS_Store',\n",
       " 'set.ipynb',\n",
       " 'bill.csv',\n",
       " 'list.ipynb',\n",
       " 'file.ipynb',\n",
       " 'intro.ipynb',\n",
       " 'oop.ipynb',\n",
       " 'bonus.ipynb',\n",
       " 'dictionary.ipynb',\n",
       " 'new_data.csv',\n",
       " 'boooks.csv',\n",
       " 'string.ipynb',\n",
       " 'if else statement.ipynb',\n",
       " 'new_data1.csv',\n",
       " 'data.csv',\n",
       " 'inheritance.ipynb',\n",
       " 'loop.ipynb',\n",
       " 'bill.txt',\n",
       " 'list_data.csv',\n",
       " '.ipynb_checkpoints',\n",
       " '.git',\n",
       " 'pandas.ipynb',\n",
       " 'data.txt']"
      ]
     },
     "execution_count": 11,
     "metadata": {},
     "output_type": "execute_result"
    }
   ],
   "source": [
    "import os\n",
    "os.listdir()"
   ]
  },
  {
   "cell_type": "code",
   "execution_count": 12,
   "id": "99884d8a",
   "metadata": {},
   "outputs": [],
   "source": [
    "os.mkdir ('NewFolder')"
   ]
  },
  {
   "cell_type": "code",
   "execution_count": 13,
   "id": "0f37ae23",
   "metadata": {},
   "outputs": [],
   "source": [
    "os.chdir('NewFolder')"
   ]
  },
  {
   "cell_type": "code",
   "execution_count": 14,
   "id": "1febb855",
   "metadata": {},
   "outputs": [
    {
     "data": {
      "text/plain": [
       "'/Users/anuj/python430/NewFolder'"
      ]
     },
     "execution_count": 14,
     "metadata": {},
     "output_type": "execute_result"
    }
   ],
   "source": [
    "pwd"
   ]
  },
  {
   "cell_type": "code",
   "execution_count": 16,
   "id": "6a9e9e17",
   "metadata": {},
   "outputs": [
    {
     "name": "stdout",
     "output_type": "stream",
     "text": [
      "/Users/anuj/python430\n"
     ]
    }
   ],
   "source": [
    "cd .."
   ]
  },
  {
   "cell_type": "code",
   "execution_count": 18,
   "id": "4bc4c16e",
   "metadata": {},
   "outputs": [
    {
     "name": "stdout",
     "output_type": "stream",
     "text": [
      "Enter n = 5\n",
      "Enter 1 value = 70\n",
      "70\n",
      "Enter 2 value = 50\n",
      "50\n",
      "Enter 3 value = 30\n",
      "30\n",
      "Enter 4 value = 60\n",
      "60\n",
      "Enter 5 value = 90\n",
      "90\n"
     ]
    }
   ],
   "source": [
    "n = int(input(\"Enter n = \"))\n",
    "for i in range(1,n+1):\n",
    "    x = int(input(f\"Enter {i} value = \"))\n",
    "    print(x)"
   ]
  },
  {
   "cell_type": "code",
   "execution_count": 20,
   "id": "e683b3fd",
   "metadata": {},
   "outputs": [
    {
     "name": "stdout",
     "output_type": "stream",
     "text": [
      "Enter n = 3\n",
      "Enter Physic marks = 43\n",
      "43\n",
      "Enter Chemistry marks = 53\n",
      "53\n",
      "Enter Math marks = 66\n",
      "66\n"
     ]
    }
   ],
   "source": [
    "sub = ['Physic','Chemistry','Math']\n",
    "n = int(input(\"Enter n = \"))\n",
    "for i in range(n):\n",
    "    x = int(input(f\"Enter {sub[i]} marks = \"))\n",
    "    print(x)"
   ]
  },
  {
   "cell_type": "code",
   "execution_count": null,
   "id": "653a587c",
   "metadata": {},
   "outputs": [],
   "source": []
  }
 ],
 "metadata": {
  "kernelspec": {
   "display_name": "Python 3 (ipykernel)",
   "language": "python",
   "name": "python3"
  },
  "language_info": {
   "codemirror_mode": {
    "name": "ipython",
    "version": 3
   },
   "file_extension": ".py",
   "mimetype": "text/x-python",
   "name": "python",
   "nbconvert_exporter": "python",
   "pygments_lexer": "ipython3",
   "version": "3.9.13"
  }
 },
 "nbformat": 4,
 "nbformat_minor": 5
}
