{
 "cells": [
  {
   "cell_type": "code",
   "execution_count": null,
   "id": "ed88635f",
   "metadata": {},
   "outputs": [],
   "source": [
    "# Dictionary\n",
    "# -Indexed\n",
    "# -Multiple and duplicate value\n",
    "# -Ordered\n",
    "# -Mutable"
   ]
  },
  {
   "cell_type": "code",
   "execution_count": 1,
   "id": "98ef1a78",
   "metadata": {},
   "outputs": [
    {
     "name": "stdout",
     "output_type": "stream",
     "text": [
      "{'a': 'Apple', 'b': 'Ball', 'c': 'Cat'}\n",
      "<class 'dict'>\n"
     ]
    }
   ],
   "source": [
    "# d = {<key>:<value>,<key>:<value>,...}\n",
    "d = {'a':'Apple','b':'Ball','c':'Cat'}\n",
    "print(d)\n",
    "print(type(d))"
   ]
  },
  {
   "cell_type": "code",
   "execution_count": 2,
   "id": "d5e2bb6c",
   "metadata": {},
   "outputs": [
    {
     "name": "stdout",
     "output_type": "stream",
     "text": [
      "Ram\n",
      "10\n",
      "Nepal\n"
     ]
    }
   ],
   "source": [
    "info = {'name':'Ram','age':10,'add':'Nepal'}\n",
    "print(info['name'])\n",
    "print(info['age'])\n",
    "print(info['add'])"
   ]
  },
  {
   "cell_type": "code",
   "execution_count": 3,
   "id": "ea838279",
   "metadata": {},
   "outputs": [
    {
     "name": "stdout",
     "output_type": "stream",
     "text": [
      "{'a': 'Apple', 'b': 'Ball', 'c': 'Cat', 'A': 'Apple'}\n"
     ]
    }
   ],
   "source": [
    "d = {'a':'Apple','b':'Ball','c':'Cat','A':'Apple'}\n",
    "print(d)"
   ]
  },
  {
   "cell_type": "code",
   "execution_count": 5,
   "id": "1d74a150",
   "metadata": {},
   "outputs": [
    {
     "name": "stdout",
     "output_type": "stream",
     "text": [
      "{'a': 'Anuj', 'b': 'Ball', 'c': 'Cat'}\n"
     ]
    }
   ],
   "source": [
    "d = {'a':'Apple','b':'Ball','c':'Cat','a':'Anuj'}# mutable\n",
    "print(d)"
   ]
  },
  {
   "cell_type": "code",
   "execution_count": 6,
   "id": "1c9826b4",
   "metadata": {},
   "outputs": [
    {
     "name": "stdout",
     "output_type": "stream",
     "text": [
      "{'a': 'Apple', 'b': 'Ball', 'c': 'Cat'}\n"
     ]
    }
   ],
   "source": [
    "# d = dict()\n",
    "# d = {} both empty dictionary\n",
    "d = {}\n",
    "d['a'] = 'Apple'\n",
    "d['b'] = 'Ball'\n",
    "d['c'] = 'Cat'\n",
    "print(d)"
   ]
  },
  {
   "cell_type": "code",
   "execution_count": 9,
   "id": "02dcca37",
   "metadata": {},
   "outputs": [
    {
     "name": "stdout",
     "output_type": "stream",
     "text": [
      "Enter n = 2\n",
      "Enter name = ram\n",
      "Enter phone no = 34324343\n",
      "Enter name = sam\n",
      "Enter phone no = 4324343\n",
      "{'ram': 34324343, 'sam': 4324343}\n",
      "{34324343: 'ram', 4324343: 'sam'}\n"
     ]
    }
   ],
   "source": [
    "n = int(input(\"Enter n = \"))\n",
    "info = {}\n",
    "foin = {}\n",
    "for i in range(n):\n",
    "    name = input(\"Enter name = \")\n",
    "    phone = int(input(\"Enter phone no = \"))\n",
    "    info[name] = phone\n",
    "    foin[phone] = name\n",
    "    \n",
    "print(info)\n",
    "print(foin)"
   ]
  },
  {
   "cell_type": "code",
   "execution_count": 10,
   "id": "c7745e5c",
   "metadata": {},
   "outputs": [
    {
     "name": "stdout",
     "output_type": "stream",
     "text": [
      "9808428089\n",
      "9812345678\n"
     ]
    }
   ],
   "source": [
    "a = {'Ram':9808428089,'Shyam':9812345678}\n",
    "for i in a.values():\n",
    "    print(i)"
   ]
  },
  {
   "cell_type": "code",
   "execution_count": 15,
   "id": "55d97012",
   "metadata": {},
   "outputs": [
    {
     "name": "stdout",
     "output_type": "stream",
     "text": [
      "[('Ram', 9808428089), ('Shyam', 9812345678)]\n"
     ]
    }
   ],
   "source": [
    "l = [] # tuple inside list\n",
    "a = {'Ram':9808428089,'Shyam':9812345678}\n",
    "for i in a.items():\n",
    "    l.append(i)\n",
    "    \n",
    "print(l)"
   ]
  },
  {
   "cell_type": "code",
   "execution_count": 16,
   "id": "3b40b256",
   "metadata": {},
   "outputs": [
    {
     "data": {
      "text/plain": [
       "{'Ram': 9808428089, 'Shyam': 9812345678}"
      ]
     },
     "execution_count": 16,
     "metadata": {},
     "output_type": "execute_result"
    }
   ],
   "source": [
    "dict(l) # converted list into dictionary"
   ]
  },
  {
   "cell_type": "code",
   "execution_count": null,
   "id": "04354ba4",
   "metadata": {},
   "outputs": [],
   "source": [
    "# No + * dictionary never enlarge"
   ]
  },
  {
   "cell_type": "code",
   "execution_count": 17,
   "id": "b59d5e7f",
   "metadata": {},
   "outputs": [
    {
     "data": {
      "text/plain": [
       "{'Ram': 98748348343, 'Shyam': 392849083834, 'Hari': 43627863}"
      ]
     },
     "execution_count": 17,
     "metadata": {},
     "output_type": "execute_result"
    }
   ],
   "source": [
    "d = {'Ram':98748348343,'Shyam':392849083834}\n",
    "a = {'Hari':43627863}\n",
    "d.update(a)\n",
    "d"
   ]
  },
  {
   "cell_type": "code",
   "execution_count": 18,
   "id": "5435b168",
   "metadata": {},
   "outputs": [
    {
     "data": {
      "text/plain": [
       "{'Ram': 9800077707, 'Shyam': 392849083834, 'Hari': 43627863}"
      ]
     },
     "execution_count": 18,
     "metadata": {},
     "output_type": "execute_result"
    }
   ],
   "source": [
    "a = {'Ram': 98748348343, 'Shyam': 392849083834, 'Hari': 43627863} #update\n",
    "a['Ram'] = 9800077707\n",
    "a"
   ]
  },
  {
   "cell_type": "code",
   "execution_count": 19,
   "id": "65fc6407",
   "metadata": {},
   "outputs": [
    {
     "name": "stdout",
     "output_type": "stream",
     "text": [
      "{'Ram': [98748348343, 798324893], 'Shyam': [392849083834, 63455454], 'Hari': [43627863, 545435454]}\n"
     ]
    }
   ],
   "source": [
    "# key with multiple value also called list in dictionary\n",
    "a = {'Ram': [98748348343,798324893],\n",
    "     'Shyam': [392849083834,63455454],\n",
    "     'Hari': [43627863,545435454]}\n",
    "print(a)"
   ]
  },
  {
   "cell_type": "code",
   "execution_count": 20,
   "id": "6fda8de8",
   "metadata": {},
   "outputs": [
    {
     "data": {
      "text/plain": [
       "{'Name': ['Ram', 'Shayam', 'Hari'],\n",
       " 'Age': [23, 65, 32],\n",
       " 'Add': ['Bara', 'Rara', 'Para']}"
      ]
     },
     "execution_count": 20,
     "metadata": {},
     "output_type": "execute_result"
    }
   ],
   "source": [
    "data = {'Name':['Ram','Shayam','Hari'],\n",
    "       'Age':[23,65,32],\n",
    "       'Add':['Bara','Rara','Para']}\n",
    "data"
   ]
  },
  {
   "cell_type": "code",
   "execution_count": 21,
   "id": "89f6dcb9",
   "metadata": {},
   "outputs": [
    {
     "name": "stdout",
     "output_type": "stream",
     "text": [
      "Enter n =2\n",
      "Enter name = fsdf\n",
      "Enter ntc no = 4343\n",
      "Enter ncell no = 4343\n",
      "Enter name = fdfdfd\n",
      "Enter ntc no = 43434\n",
      "Enter ncell no = 556\n",
      "{'fsdf': [4343, 4343], 'fdfdfd': [43434, 556]}\n"
     ]
    }
   ],
   "source": [
    "n = int(input(\"Enter n =\"))\n",
    "info = {}\n",
    "for i in range(n):\n",
    "    name = input(\"Enter name = \")\n",
    "    ntc = int(input(\"Enter ntc no = \"))\n",
    "    ncell = int(input(\"Enter ncell no = \"))\n",
    "    info[name] = [ntc,ncell]\n",
    "    \n",
    "print(info)"
   ]
  },
  {
   "cell_type": "code",
   "execution_count": 23,
   "id": "d75a87b0",
   "metadata": {},
   "outputs": [
    {
     "name": "stdout",
     "output_type": "stream",
     "text": [
      "Enter n =3\n",
      "Enter name = ram\n",
      "Enter age = 12\n",
      "Enter add = ktm\n",
      "Enter name = shyam\n",
      "Enter age = 45\n",
      "Enter add = lat\n",
      "Enter name = tam\n",
      "Enter age = 76\n",
      "Enter add = bhak\n",
      "{'Name': ['ram', 'shyam', 'tam'], 'Age': [12, 45, 76], 'Add': ['ktm', 'lat', 'bhak']}\n"
     ]
    }
   ],
   "source": [
    "n = int(input(\"Enter n =\"))\n",
    "data = {'Name':[],'Age':[],'Add':[]}\n",
    "for i in range(n):\n",
    "    name = input(\"Enter name = \")\n",
    "    age = int(input(\"Enter age = \"))\n",
    "    add = input(\"Enter add = \")\n",
    "    data['Name'].append(name)\n",
    "    data['Age'].append(age)\n",
    "    data['Add'].append(add)\n",
    "    \n",
    "print(data)"
   ]
  },
  {
   "cell_type": "code",
   "execution_count": 25,
   "id": "5ad6d5c6",
   "metadata": {},
   "outputs": [
    {
     "name": "stdout",
     "output_type": "stream",
     "text": [
      "{'Name': ['ram', 'shyam', 'tam', 'Anuj'], 'Age': [12, 45, 76, 22], 'Add': ['ktm', 'lat', 'bhak', 'Harisiddhi']}\n"
     ]
    }
   ],
   "source": [
    "a = {'Name': ['ram', 'shyam', 'tam'], 'Age': [12, 45, 76], 'Add': ['ktm', 'lat', 'bhak']}\n",
    "a['Name'].append('Anuj')\n",
    "a['Age'].append(22)\n",
    "a['Add'].append('Harisiddhi')\n",
    "print(a)"
   ]
  },
  {
   "cell_type": "code",
   "execution_count": 26,
   "id": "a6ac476a",
   "metadata": {},
   "outputs": [
    {
     "data": {
      "text/plain": [
       "{'Name': ['ram', 'shyam', 'tam', 'Anuj'], 'Age': [12, 45, 76, 22]}"
      ]
     },
     "execution_count": 26,
     "metadata": {},
     "output_type": "execute_result"
    }
   ],
   "source": [
    "# del pop()\n",
    "d = {'Name': ['ram', 'shyam', 'tam', 'Anuj'], 'Age': [12, 45, 76, 22], 'Add': ['ktm', 'lat', 'bhak', 'Harisiddhi']}\n",
    "del d['Add']\n",
    "d"
   ]
  },
  {
   "cell_type": "code",
   "execution_count": 31,
   "id": "0262a982",
   "metadata": {},
   "outputs": [
    {
     "data": {
      "text/plain": [
       "{'Name': ['ram', 'tam', 'Anuj'],\n",
       " 'Age': [12, 76, 22],\n",
       " 'Add': ['ktm', 'bhak', 'Harisiddhi']}"
      ]
     },
     "execution_count": 31,
     "metadata": {},
     "output_type": "execute_result"
    }
   ],
   "source": [
    "# del pop()\n",
    "d = {'Name': ['ram', 'shyam', 'tam', 'Anuj'], 'Age': [12, 45, 76, 22], 'Add': ['ktm', 'lat', 'bhak', 'Harisiddhi']}\n",
    "del d['Name'][1]\n",
    "del d['Age'][1]\n",
    "del d['Add'][1]\n",
    "d"
   ]
  },
  {
   "cell_type": "code",
   "execution_count": 33,
   "id": "82d9f67a",
   "metadata": {},
   "outputs": [
    {
     "data": {
      "text/plain": [
       "{'Name': ['ram', 'tam', 'Anuj'],\n",
       " 'Age': [12, 76, 22],\n",
       " 'Add': ['ktm', 'Dharan', 'Harisiddhi']}"
      ]
     },
     "execution_count": 33,
     "metadata": {},
     "output_type": "execute_result"
    }
   ],
   "source": [
    "v = {'Name':['ram', 'tam', 'Anuj'], 'Age':[12, 76, 22], 'Add':['ktm', 'bhak', 'Harisiddhi']}\n",
    "v['Add'][1] = \"Dharan\"\n",
    "v"
   ]
  },
  {
   "cell_type": "code",
   "execution_count": 1,
   "id": "ea69e6a5",
   "metadata": {},
   "outputs": [],
   "source": [
    "# dictionary inside list\n",
    "l = [{'name':'Ram','age':22,'add':'Bara'},\n",
    "     {'name':'Sam','age':42,'add':'Lalitput'},\n",
    "     {'name':'Tam','age':22,'add':'Jhapa'}]"
   ]
  },
  {
   "cell_type": "code",
   "execution_count": 9,
   "id": "dd7a9b83",
   "metadata": {},
   "outputs": [
    {
     "name": "stdout",
     "output_type": "stream",
     "text": [
      "Enter n = 2\n",
      "Enter name = ram\n",
      "Enter age = 12\n",
      "Enter add = jhapa\n",
      "Enter name = gham\n",
      "Enter age = 33\n",
      "Enter add = bara\n",
      "[{'name': 'ram', 'age': 12, 'add': 'jhapa'}, {'name': 'gham', 'age': 33, 'add': 'bara'}]\n"
     ]
    }
   ],
   "source": [
    "data = []\n",
    "n = int(input(\"Enter n = \"))\n",
    "for i in range(n):\n",
    "    name = input(\"Enter name = \")\n",
    "    age = int(input(\"Enter age = \"))\n",
    "    add = input(\"Enter add = \")\n",
    "    info = {'name':name,'age':age,'add':add}\n",
    "    data.append(info)\n",
    "    \n",
    "print(data)"
   ]
  },
  {
   "cell_type": "code",
   "execution_count": 17,
   "id": "4e0961b2",
   "metadata": {},
   "outputs": [
    {
     "data": {
      "text/plain": [
       "[{'name': 'Rama', 'age': 12, 'add': 'Kathmandu'},\n",
       " {'name': 'Tara', 'age': 33, 'add': 'Lalitpur'}]"
      ]
     },
     "execution_count": 17,
     "metadata": {},
     "output_type": "execute_result"
    }
   ],
   "source": [
    "data[0]['name'] = 'Rama'\n",
    "data[1]['name'] = 'Tara'\n",
    "data[0]['add'] = 'Kathmandu'\n",
    "data[1]['add'] = 'Lalitpur'\n",
    "data"
   ]
  },
  {
   "cell_type": "code",
   "execution_count": null,
   "id": "97937b65",
   "metadata": {},
   "outputs": [],
   "source": [
    "# dict inside dict\n",
    "# info = {1:{'name': 'Rama', 'age': 12, 'add': 'Kathmandu'},\n",
    "#        2:{'name': 'Tara', 'age': 21, 'add': 'Lalitput'}}"
   ]
  },
  {
   "cell_type": "code",
   "execution_count": 19,
   "id": "8d9be4ea",
   "metadata": {},
   "outputs": [
    {
     "name": "stdout",
     "output_type": "stream",
     "text": [
      "Enter n = 2\n",
      "Enter name = tara\n",
      "Enter age = 32\n",
      "Enter add = jhapa\n",
      "Enter name = para\n",
      "Enter age = 65\n",
      "Enter add = balaju\n",
      "{1: {'name': 'tara', 'age': 32, 'add': 'jhapa'}, 2: {'name': 'para', 'age': 65, 'add': 'balaju'}}\n"
     ]
    }
   ],
   "source": [
    "data = {}\n",
    "n = int(input(\"Enter n = \"))\n",
    "for i in range(1,n+1):\n",
    "    name = input(\"Enter name = \")\n",
    "    age = int(input(\"Enter age = \"))\n",
    "    add = input(\"Enter add = \")\n",
    "    info = {'name':name,'age':age,'add':add}\n",
    "    data[i] = info\n",
    "\n",
    "print(data)"
   ]
  },
  {
   "cell_type": "code",
   "execution_count": 26,
   "id": "06e9dac0",
   "metadata": {},
   "outputs": [
    {
     "data": {
      "text/plain": [
       "{1: {'name': 'tara', 'age': 32, 'add': 'jhapa'},\n",
       " 2: {'name': 'para', 'age': 65, 'add': 'balaju'},\n",
       " 3: {'name': 'sara', 'age': 42, 'add': 'dharan'}}"
      ]
     },
     "execution_count": 26,
     "metadata": {},
     "output_type": "execute_result"
    }
   ],
   "source": [
    "# adding key and value\n",
    "data[3] = {'name': 'sara', 'age': 42, 'add': 'dharan'}\n",
    "data"
   ]
  },
  {
   "cell_type": "code",
   "execution_count": 27,
   "id": "7a89c532",
   "metadata": {},
   "outputs": [
    {
     "data": {
      "text/plain": [
       "{1: {'name': 'tara', 'age': 32, 'add': 'jhapa'},\n",
       " 2: {'name': 'para', 'age': 65, 'add': 'balaju'},\n",
       " 3: {'name': 'sara', 'add': 'dharan'}}"
      ]
     },
     "execution_count": 27,
     "metadata": {},
     "output_type": "execute_result"
    }
   ],
   "source": [
    "# deleting data\n",
    "data[3]['age'] = 91\n",
    "del data[3]['age']\n",
    "data"
   ]
  },
  {
   "cell_type": "code",
   "execution_count": null,
   "id": "0a71dff9",
   "metadata": {},
   "outputs": [],
   "source": [
    "data = {1: {'name': 'tara', 'age': 32, 'add': {'per':'Ramechhap','temp':'Lalitpur'}},\n",
    " 2: {'name': 'para', 'age': 65, 'add': {'per':'Jhapa','temp':'Kathmandu'}}}"
   ]
  },
  {
   "cell_type": "code",
   "execution_count": null,
   "id": "c6aa0414",
   "metadata": {},
   "outputs": [],
   "source": [
    "# key ma k k rakhna milla?"
   ]
  },
  {
   "cell_type": "code",
   "execution_count": 28,
   "id": "c12b2614",
   "metadata": {},
   "outputs": [
    {
     "data": {
      "text/plain": [
       "{'Jargha': [9843876655, 9911736547], 'Anuj': [9808989898, 9854536738]}"
      ]
     },
     "execution_count": 28,
     "metadata": {},
     "output_type": "execute_result"
    }
   ],
   "source": [
    "d = {'Jargha':[9843876655,9911736547],\n",
    "    'Anuj':[9808989898,9854536738]}\n",
    "d"
   ]
  },
  {
   "cell_type": "code",
   "execution_count": 29,
   "id": "58a2e2db",
   "metadata": {},
   "outputs": [
    {
     "ename": "TypeError",
     "evalue": "unhashable type: 'list'",
     "output_type": "error",
     "traceback": [
      "\u001b[0;31m---------------------------------------------------------------------------\u001b[0m",
      "\u001b[0;31mTypeError\u001b[0m                                 Traceback (most recent call last)",
      "\u001b[0;32m/var/folders/6p/z3xlv3gs3l75_5kcgj0sgj4c0000gn/T/ipykernel_9462/2527547771.py\u001b[0m in \u001b[0;36m<module>\u001b[0;34m\u001b[0m\n\u001b[0;32m----> 1\u001b[0;31m d = {['Ram','Shyam']:898594594,\n\u001b[0m\u001b[1;32m      2\u001b[0m     ['Hari','Sita']:5894385940}\n\u001b[1;32m      3\u001b[0m \u001b[0md\u001b[0m\u001b[0;34m\u001b[0m\u001b[0;34m\u001b[0m\u001b[0m\n",
      "\u001b[0;31mTypeError\u001b[0m: unhashable type: 'list'"
     ]
    }
   ],
   "source": [
    "d = {['Ram','Shyam']:898594594,\n",
    "    ['Hari','Sita']:5894385940}\n",
    "d"
   ]
  },
  {
   "cell_type": "code",
   "execution_count": 30,
   "id": "c84fa35d",
   "metadata": {},
   "outputs": [
    {
     "data": {
      "text/plain": [
       "{('Ram', 'Shyam'): 898594594, ('Hari', 'Sita'): 5894385940}"
      ]
     },
     "execution_count": 30,
     "metadata": {},
     "output_type": "execute_result"
    }
   ],
   "source": [
    "d = {('Ram','Shyam'):898594594,\n",
    "    ('Hari','Sita'):5894385940}\n",
    "d"
   ]
  },
  {
   "cell_type": "code",
   "execution_count": 31,
   "id": "c99c9ddf",
   "metadata": {},
   "outputs": [
    {
     "ename": "KeyError",
     "evalue": "'Ram'",
     "output_type": "error",
     "traceback": [
      "\u001b[0;31m---------------------------------------------------------------------------\u001b[0m",
      "\u001b[0;31mKeyError\u001b[0m                                  Traceback (most recent call last)",
      "\u001b[0;32m/var/folders/6p/z3xlv3gs3l75_5kcgj0sgj4c0000gn/T/ipykernel_9462/2650762626.py\u001b[0m in \u001b[0;36m<module>\u001b[0;34m\u001b[0m\n\u001b[0;32m----> 1\u001b[0;31m \u001b[0md\u001b[0m\u001b[0;34m[\u001b[0m\u001b[0;34m'Ram'\u001b[0m\u001b[0;34m]\u001b[0m\u001b[0;34m\u001b[0m\u001b[0;34m\u001b[0m\u001b[0m\n\u001b[0m",
      "\u001b[0;31mKeyError\u001b[0m: 'Ram'"
     ]
    }
   ],
   "source": [
    "d['Ram']"
   ]
  },
  {
   "cell_type": "code",
   "execution_count": 32,
   "id": "48e9ff3d",
   "metadata": {},
   "outputs": [
    {
     "data": {
      "text/plain": [
       "898594594"
      ]
     },
     "execution_count": 32,
     "metadata": {},
     "output_type": "execute_result"
    }
   ],
   "source": [
    "d[('Ram','Shyam')]"
   ]
  },
  {
   "cell_type": "code",
   "execution_count": 33,
   "id": "171ef3ac",
   "metadata": {},
   "outputs": [
    {
     "data": {
      "text/plain": [
       "898594594"
      ]
     },
     "execution_count": 33,
     "metadata": {},
     "output_type": "execute_result"
    }
   ],
   "source": [
    "d['Ram','Shyam']"
   ]
  },
  {
   "cell_type": "code",
   "execution_count": null,
   "id": "74db40fc",
   "metadata": {},
   "outputs": [],
   "source": []
  }
 ],
 "metadata": {
  "kernelspec": {
   "display_name": "Python 3 (ipykernel)",
   "language": "python",
   "name": "python3"
  },
  "language_info": {
   "codemirror_mode": {
    "name": "ipython",
    "version": 3
   },
   "file_extension": ".py",
   "mimetype": "text/x-python",
   "name": "python",
   "nbconvert_exporter": "python",
   "pygments_lexer": "ipython3",
   "version": "3.9.13"
  }
 },
 "nbformat": 4,
 "nbformat_minor": 5
}
