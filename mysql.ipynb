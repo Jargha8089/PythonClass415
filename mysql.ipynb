{
 "cells": [
  {
   "cell_type": "code",
   "execution_count": 1,
   "id": "a2a047e2",
   "metadata": {},
   "outputs": [
    {
     "name": "stdout",
     "output_type": "stream",
     "text": [
      "Collecting mysql-connector\n",
      "  Downloading mysql-connector-2.2.9.tar.gz (11.9 MB)\n",
      "\u001b[2K     \u001b[90m━━━━━━━━━━━━━━━━━━━━━━━━━━━━━━━━━━━━━━━\u001b[0m \u001b[32m11.9/11.9 MB\u001b[0m \u001b[31m363.5 kB/s\u001b[0m eta \u001b[36m0:00:00\u001b[0m00:01\u001b[0m00:01\u001b[0m\n",
      "\u001b[?25h  Preparing metadata (setup.py) ... \u001b[?25ldone\n",
      "\u001b[?25hBuilding wheels for collected packages: mysql-connector\n",
      "  Building wheel for mysql-connector (setup.py) ... \u001b[?25ldone\n",
      "\u001b[?25h  Created wheel for mysql-connector: filename=mysql_connector-2.2.9-cp39-cp39-macosx_10_9_x86_64.whl size=247957 sha256=4a098cdf1c72189589d3d01f8d33934ca89f2cbd11b077e300d181894970dbb5\n",
      "  Stored in directory: /Users/anuj/Library/Caches/pip/wheels/7b/14/39/5aad423666e827dfe9a1fbcd111ac17171e7c9865d570780ce\n",
      "Successfully built mysql-connector\n",
      "Installing collected packages: mysql-connector\n",
      "Successfully installed mysql-connector-2.2.9\n"
     ]
    }
   ],
   "source": [
    "!pip install mysql-connector"
   ]
  },
  {
   "cell_type": "code",
   "execution_count": 6,
   "id": "76a8f90f",
   "metadata": {},
   "outputs": [],
   "source": [
    "import mysql.connector #importing database \n",
    "\n",
    "database = mysql.connector.connect(\n",
    "    host=\"localhost\",\n",
    "    user=\"root\",\n",
    "    password=\"\",\n",
    "    database = \"python415pm\"\n",
    ")\n",
    "db = database.cursor()"
   ]
  },
  {
   "cell_type": "code",
   "execution_count": 7,
   "id": "038c1712",
   "metadata": {},
   "outputs": [
    {
     "data": {
      "text/plain": [
       "[(1, 'Ram', 24, 30, 44, 55, 76, 456, 49.99, 'B'),\n",
       " (2, 'Sita', 44, 67, 23, 67, 45, 678, 88.5, 'A'),\n",
       " (3, 'Hari', 72, 55, 45, 63, 26, 654, 77.93, 'B'),\n",
       " (4, 'Shaym', 33, 32, 34, 35, 31, 301, 35.33, 'D'),\n",
       " (5, 'Laxmi', 44, 32, 45, 67, 78, 123, 55.3, 'C'),\n",
       " (6, 'Jargha', 77, 33, 55, 66, 88, 888, 87.6, 'A'),\n",
       " (8, 'Puma', 0, 40, 100, 0, 0, 140, 40.2, 'E')]"
      ]
     },
     "execution_count": 7,
     "metadata": {},
     "output_type": "execute_result"
    }
   ],
   "source": [
    "sql = \"SELECT * FROM student\" # select\n",
    "db.execute(sql)\n",
    "result = db.fetchall()\n",
    "result"
   ]
  },
  {
   "cell_type": "code",
   "execution_count": 8,
   "id": "01bfbb81",
   "metadata": {},
   "outputs": [
    {
     "data": {
      "text/plain": [
       "[(2, 'Sita', 44, 67, 23, 67, 45, 678, 88.5, 'A'),\n",
       " (6, 'Jargha', 77, 33, 55, 66, 88, 888, 87.6, 'A')]"
      ]
     },
     "execution_count": 8,
     "metadata": {},
     "output_type": "execute_result"
    }
   ],
   "source": [
    "sql = \"SELECT * FROM student WHERE grade = 'A'\" #select with condition\n",
    "db.execute(sql)\n",
    "result = db.fetchall()\n",
    "result"
   ]
  },
  {
   "cell_type": "code",
   "execution_count": 11,
   "id": "c9e8b57d",
   "metadata": {},
   "outputs": [],
   "source": [
    "# insert\n",
    "sql = '''INSERT INTO student (sn, name, physic, chemistry, math, english, nepali, total, per, grade) \n",
    "VALUES (9, 'Nime', 73, 33, 41, 65, 92, 979, 89.6, 'A')''' #sn can be remove because of its a primary key\n",
    "db.execute(sql)\n",
    "database.commit()"
   ]
  },
  {
   "cell_type": "code",
   "execution_count": 17,
   "id": "7f528ba9",
   "metadata": {},
   "outputs": [
    {
     "name": "stdout",
     "output_type": "stream",
     "text": [
      "Enter name = Anuj\n",
      "Enter physics marks = 76\n",
      "Enter chemistry marks = 45\n",
      "Enter math marks = 77\n",
      "Enter english marks = 33\n",
      "Enter nepali marks = 65\n"
     ]
    }
   ],
   "source": [
    "# inserting by user entry\n",
    "name = input(\"Enter name = \")\n",
    "physics = int(input(\"Enter physics marks = \"))\n",
    "chemistry = int(input(\"Enter chemistry marks = \"))\n",
    "math = int(input(\"Enter math marks = \"))\n",
    "english = int(input(\"Enter english marks = \"))\n",
    "nepali = int(input(\"Enter nepali marks = \"))\n",
    "total = physics+chemistry+math+english+nepali\n",
    "per = total/5\n",
    "if per >= 80:\n",
    "    grade = 'A'\n",
    "elif per >= 60:\n",
    "    grade = 'B'\n",
    "elif per >= 45:\n",
    "    grade = 'C'\n",
    "else:\n",
    "    grade = 'F'\n",
    "\n",
    "sql = f'''INSERT INTO student (name, physic, chemistry, math, english, nepali, total, per, grade) \n",
    "VALUES ('{name}', {physics}, {chemistry}, {math}, {english}, {nepali}, {total}, {per}, '{grade}')'''\n",
    "db.execute(sql)\n",
    "database.commit()"
   ]
  },
  {
   "cell_type": "code",
   "execution_count": 13,
   "id": "18634547",
   "metadata": {},
   "outputs": [],
   "source": [
    "# update\n",
    "sql = f'''UPDATE student SET name = 'Madan' WHERE sn = 7'''\n",
    "db.execute(sql)\n",
    "database.commit()"
   ]
  },
  {
   "cell_type": "code",
   "execution_count": 14,
   "id": "91698ede",
   "metadata": {},
   "outputs": [
    {
     "name": "stdout",
     "output_type": "stream",
     "text": [
      "Enter name = Pawan\n",
      "Enter sn = 8\n"
     ]
    }
   ],
   "source": [
    "# update by user entry\n",
    "name = input(\"Enter name = \")\n",
    "sn = int(input(\"Enter sn = \"))\n",
    "sql = f'''UPDATE student SET name = '{name}' WHERE sn = {sn}'''\n",
    "db.execute(sql)\n",
    "database.commit()"
   ]
  },
  {
   "cell_type": "code",
   "execution_count": 16,
   "id": "ebadec74",
   "metadata": {},
   "outputs": [],
   "source": [
    "# delete\n",
    "sql = f'''DELETE FROM student WHERE sn = 6'''\n",
    "db.execute(sql)\n",
    "database.commit()"
   ]
  },
  {
   "cell_type": "code",
   "execution_count": 18,
   "id": "ef3f05bb",
   "metadata": {},
   "outputs": [
    {
     "name": "stdout",
     "output_type": "stream",
     "text": [
      "Enter sn = 9\n"
     ]
    }
   ],
   "source": [
    "# delete by user entry\n",
    "sn = int(input(\"Enter sn = \"))\n",
    "sql = f'''DELETE FROM student WHERE sn = {sn}'''\n",
    "db.execute(sql)\n",
    "database.commit()"
   ]
  },
  {
   "cell_type": "code",
   "execution_count": 21,
   "id": "c653b394",
   "metadata": {},
   "outputs": [],
   "source": [
    "# insert\n",
    "sql = '''INSERT INTO student (sn, name, physic, chemistry, math, english, nepali, total, per, grade) \n",
    "VALUES (10, 'Aman', 50, 50, 50, 50, 50, 250, 50, 'C')''' #sn can be remove because of its a primary key\n",
    "db.execute(sql)\n",
    "database.commit()"
   ]
  },
  {
   "cell_type": "code",
   "execution_count": null,
   "id": "fb4e521a",
   "metadata": {},
   "outputs": [],
   "source": []
  }
 ],
 "metadata": {
  "kernelspec": {
   "display_name": "Python 3 (ipykernel)",
   "language": "python",
   "name": "python3"
  },
  "language_info": {
   "codemirror_mode": {
    "name": "ipython",
    "version": 3
   },
   "file_extension": ".py",
   "mimetype": "text/x-python",
   "name": "python",
   "nbconvert_exporter": "python",
   "pygments_lexer": "ipython3",
   "version": "3.9.13"
  }
 },
 "nbformat": 4,
 "nbformat_minor": 5
}
