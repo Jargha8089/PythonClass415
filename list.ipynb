{
 "cells": [
  {
   "cell_type": "code",
   "execution_count": 1,
   "id": "33940015",
   "metadata": {},
   "outputs": [],
   "source": [
    "# python collection\n",
    "# list\n",
    "# tuple\n",
    "# dict\n",
    "# set"
   ]
  },
  {
   "cell_type": "code",
   "execution_count": 2,
   "id": "179b656d",
   "metadata": {},
   "outputs": [],
   "source": [
    "# list\n",
    "# -indexing or slicing\n",
    "# -ordered\n",
    "# -Multiple and duplicate value\n",
    "# -mutable"
   ]
  },
  {
   "cell_type": "code",
   "execution_count": 3,
   "id": "a709b965",
   "metadata": {},
   "outputs": [
    {
     "name": "stdout",
     "output_type": "stream",
     "text": [
      "<class 'list'>\n",
      "<class 'list'>\n",
      "['Apple', 'Ball', 'Cat']\n",
      "[1, 2, 3, 4, 5, 6, 7, 8, 9]\n"
     ]
    }
   ],
   "source": [
    "a = [\"Apple\",\"Ball\",\"Cat\"]\n",
    "b = [1,2,3,4,5,6,7,8,9]\n",
    "print(type(a))\n",
    "print(type(b))\n",
    "print(a)\n",
    "print(b)"
   ]
  },
  {
   "cell_type": "code",
   "execution_count": 5,
   "id": "4c64d7ea",
   "metadata": {},
   "outputs": [
    {
     "name": "stdout",
     "output_type": "stream",
     "text": [
      "Cat\n"
     ]
    }
   ],
   "source": [
    "a = [\"Apple\",\"Ball\",\"Cat\"]\n",
    "print(a[2])"
   ]
  },
  {
   "cell_type": "code",
   "execution_count": 6,
   "id": "2944ac17",
   "metadata": {},
   "outputs": [
    {
     "name": "stdout",
     "output_type": "stream",
     "text": [
      "['Apple', 'Ball', 'Cat']\n"
     ]
    }
   ],
   "source": [
    "a = [\"Apple\",\"Ball\",\"Cat\",\"Dog\"]\n",
    "print(a[0:3])"
   ]
  },
  {
   "cell_type": "code",
   "execution_count": 7,
   "id": "f0c4c20f",
   "metadata": {},
   "outputs": [
    {
     "name": "stdout",
     "output_type": "stream",
     "text": [
      "['Apple', 'Ball', 'Cat', 1, 2, 3, 4, 5, 6, 7, 8, 9]\n"
     ]
    }
   ],
   "source": [
    "a = [\"Apple\",\"Ball\",\"Cat\"]\n",
    "b = [1,2,3,4,5,6,7,8,9]\n",
    "c = a+b\n",
    "print(c)"
   ]
  },
  {
   "cell_type": "code",
   "execution_count": 8,
   "id": "c30d3ff4",
   "metadata": {},
   "outputs": [
    {
     "name": "stdout",
     "output_type": "stream",
     "text": [
      "['Apple', 'Ball', 'Cat', 'Apple', 'Ball', 'Cat']\n"
     ]
    }
   ],
   "source": [
    "a = [\"Apple\",\"Ball\",\"Cat\"]\n",
    "print(a*2)"
   ]
  },
  {
   "cell_type": "code",
   "execution_count": 9,
   "id": "ef1b83dc",
   "metadata": {},
   "outputs": [
    {
     "name": "stdout",
     "output_type": "stream",
     "text": [
      "[1, 2, 3, 4, 5, 1, 2, 3, 4, 5]\n"
     ]
    }
   ],
   "source": [
    "a = [1,2,3,4,5]\n",
    "print(a*2)"
   ]
  },
  {
   "cell_type": "code",
   "execution_count": 10,
   "id": "1b8c7cf9",
   "metadata": {},
   "outputs": [
    {
     "data": {
      "text/plain": [
       "[9841234534, 9841667759]"
      ]
     },
     "execution_count": 10,
     "metadata": {},
     "output_type": "execute_result"
    }
   ],
   "source": [
    "phone = [9841234534,9841667759]\n",
    "phone"
   ]
  },
  {
   "cell_type": "code",
   "execution_count": 17,
   "id": "2b75fc61",
   "metadata": {},
   "outputs": [
    {
     "name": "stdout",
     "output_type": "stream",
     "text": [
      "Enter n = 3\n",
      "Enter name = ram\n",
      "Enter name = sam\n",
      "Enter name = tam\n",
      "['ram', 'sam', 'tam']\n"
     ]
    }
   ],
   "source": [
    "n = int(input(\"Enter n = \"))\n",
    "lisst = []\n",
    "for i in range(n):\n",
    "    name = input(\"Enter name = \")\n",
    "    lisst = lisst+[name]\n",
    "print(lisst)"
   ]
  },
  {
   "cell_type": "code",
   "execution_count": 18,
   "id": "f46a62ad",
   "metadata": {},
   "outputs": [
    {
     "name": "stdout",
     "output_type": "stream",
     "text": [
      "Enter n = 3\n",
      "Enter name = 12\n",
      "Enter name = 31\n",
      "Enter name = 44\n",
      "[12, 31, 44]\n"
     ]
    }
   ],
   "source": [
    "n = int(input(\"Enter n = \"))\n",
    "l = []\n",
    "for i in range(n):\n",
    "    x = int(input(\"Enter name = \"))\n",
    "    l = l+[x]\n",
    "print(l)"
   ]
  },
  {
   "cell_type": "code",
   "execution_count": 19,
   "id": "dd7ce8ab",
   "metadata": {},
   "outputs": [
    {
     "name": "stdout",
     "output_type": "stream",
     "text": [
      "The max value =  44\n",
      "The min value =  12\n",
      "The sum of all value =  87\n",
      "[12, 31, 44]\n",
      "[44, 31, 12]\n"
     ]
    }
   ],
   "source": [
    "print(\"The max value = \",max(l))\n",
    "print(\"The min value = \",min(l))\n",
    "print(\"The sum of all value = \",sum(l))\n",
    "l.sort()\n",
    "print(l)\n",
    "l.reverse()\n",
    "print(l)"
   ]
  },
  {
   "cell_type": "code",
   "execution_count": 22,
   "id": "3c5aeda7",
   "metadata": {},
   "outputs": [
    {
     "name": "stdout",
     "output_type": "stream",
     "text": [
      "['Cat', 'apple', 'banana', 'zebre']\n"
     ]
    }
   ],
   "source": [
    "a = [\"apple\",\"zebre\",\"Cat\",\"banana\"]\n",
    "a.sort()\n",
    "print(a)"
   ]
  },
  {
   "cell_type": "code",
   "execution_count": 23,
   "id": "6851a6f8",
   "metadata": {},
   "outputs": [
    {
     "name": "stdout",
     "output_type": "stream",
     "text": [
      "apple\n",
      "zebre\n",
      "Cat\n",
      "banana\n"
     ]
    }
   ],
   "source": [
    "a = [\"apple\",\"zebre\",\"Cat\",\"banana\"]\n",
    "for i in a:\n",
    "    print(i)"
   ]
  },
  {
   "cell_type": "code",
   "execution_count": 24,
   "id": "c8684eeb",
   "metadata": {},
   "outputs": [
    {
     "name": "stdout",
     "output_type": "stream",
     "text": [
      "Length of a =  4\n",
      "Yes 1\n"
     ]
    }
   ],
   "source": [
    "a = ['Ram','Shyam','Hari','Ramesh']\n",
    "print(\"Length of a = \",len(a))\n",
    "if \"Ram\" in a:\n",
    "    print(\"Yes\",a.count(\"Ram\"))\n",
    "else:\n",
    "    print(\"No\")"
   ]
  },
  {
   "cell_type": "code",
   "execution_count": null,
   "id": "495309ac",
   "metadata": {},
   "outputs": [],
   "source": [
    "# write list\n",
    "# append() insert() extend()\n",
    "# delete\n",
    "# del remove() pop()"
   ]
  },
  {
   "cell_type": "code",
   "execution_count": 25,
   "id": "a96762ac",
   "metadata": {},
   "outputs": [
    {
     "name": "stdout",
     "output_type": "stream",
     "text": [
      "['Ram', 'Shyam', 'Hari', 'Ramesh', 'Rajesh']\n"
     ]
    }
   ],
   "source": [
    "a = ['Ram','Shyam','Hari','Ramesh']\n",
    "a.append(\"Rajesh\")\n",
    "print(a)"
   ]
  },
  {
   "cell_type": "code",
   "execution_count": 29,
   "id": "75545d61",
   "metadata": {},
   "outputs": [
    {
     "name": "stdout",
     "output_type": "stream",
     "text": [
      "['Ram', 'Sita', 'Shyam', 'Hari', 'Ramesh']\n"
     ]
    }
   ],
   "source": [
    "a = ['Ram','Shyam','Hari','Ramesh']\n",
    "a.insert(1,\"Sita\")\n",
    "print(a)"
   ]
  },
  {
   "cell_type": "code",
   "execution_count": 30,
   "id": "f4e90737",
   "metadata": {},
   "outputs": [
    {
     "name": "stdout",
     "output_type": "stream",
     "text": [
      "['Apple', 'Ball', 'Cat', 1, 2, 3, 4, 5, 6, 7, 8, 9]\n"
     ]
    }
   ],
   "source": [
    "a = [\"Apple\",\"Ball\",\"Cat\"]\n",
    "b = [1,2,3,4,5,6,7,8,9]\n",
    "a.extend(b)\n",
    "print(a)"
   ]
  },
  {
   "cell_type": "code",
   "execution_count": 32,
   "id": "841954e5",
   "metadata": {},
   "outputs": [
    {
     "name": "stdout",
     "output_type": "stream",
     "text": [
      "Enter n = 3\n",
      "Enter x = haha\n",
      "Enter x = hehe\n",
      "Enter x = hoho\n",
      "['haha', 'hehe', 'hoho']\n"
     ]
    }
   ],
   "source": [
    "n = int(input(\"Enter n = \"))\n",
    "l = []\n",
    "for i in range(n):\n",
    "    x = input(\"Enter x = \")\n",
    "    l.append(x)\n",
    "    \n",
    "print(l)"
   ]
  },
  {
   "cell_type": "code",
   "execution_count": 35,
   "id": "30831821",
   "metadata": {},
   "outputs": [
    {
     "data": {
      "text/plain": [
       "['Shyam', 'Hari', 'Ramesh']"
      ]
     },
     "execution_count": 35,
     "metadata": {},
     "output_type": "execute_result"
    }
   ],
   "source": [
    "# del\n",
    "a = ['Ram','Shyam','Hari','Ramesh']\n",
    "del a[0]\n",
    "a"
   ]
  },
  {
   "cell_type": "code",
   "execution_count": 36,
   "id": "327103f4",
   "metadata": {},
   "outputs": [
    {
     "name": "stdout",
     "output_type": "stream",
     "text": [
      "['Ram', 'Shyam', 'Ramesh']\n"
     ]
    }
   ],
   "source": [
    "# remove()\n",
    "a = ['Ram','Shyam','Hari','Ramesh']\n",
    "a.remove(\"Hari\")\n",
    "print(a)"
   ]
  },
  {
   "cell_type": "code",
   "execution_count": 38,
   "id": "d1b7cb8b",
   "metadata": {},
   "outputs": [
    {
     "name": "stdout",
     "output_type": "stream",
     "text": [
      "['Ram', 'Hari', 'Ramesh']\n",
      "Shyam\n"
     ]
    }
   ],
   "source": [
    "# pop()\n",
    "a = ['Ram','Shyam','Hari','Ramesh']\n",
    "b = a.pop(1)\n",
    "print(a)\n",
    "print(b)"
   ]
  },
  {
   "cell_type": "code",
   "execution_count": 39,
   "id": "eee4410a",
   "metadata": {},
   "outputs": [
    {
     "data": {
      "text/plain": [
       "['Hari', 'Ramesh']"
      ]
     },
     "execution_count": 39,
     "metadata": {},
     "output_type": "execute_result"
    }
   ],
   "source": [
    "# del\n",
    "a = ['Ram','Shyam','Hari','Ramesh']\n",
    "del a[0:2]\n",
    "a"
   ]
  },
  {
   "cell_type": "code",
   "execution_count": 43,
   "id": "1839b8ac",
   "metadata": {},
   "outputs": [
    {
     "name": "stdout",
     "output_type": "stream",
     "text": [
      "['Shyam', 'Hari', 'Ramesh']\n"
     ]
    }
   ],
   "source": [
    "# remove()\n",
    "a = ['Ram','Shyam','Hari','Ramesh','Ram']\n",
    "c = a.count(\"Ram\")\n",
    "for i in range(c):\n",
    "    a.remove(\"Ram\")\n",
    "print(a)"
   ]
  },
  {
   "cell_type": "code",
   "execution_count": 46,
   "id": "9d6f2c12",
   "metadata": {},
   "outputs": [
    {
     "data": {
      "text/plain": [
       "0"
      ]
     },
     "execution_count": 46,
     "metadata": {},
     "output_type": "execute_result"
    }
   ],
   "source": [
    "a = ['Ram','Shyam','Hari','Ramesh','Ram']\n",
    "a.index(\"Ram\")"
   ]
  },
  {
   "cell_type": "code",
   "execution_count": 47,
   "id": "a92a7245",
   "metadata": {},
   "outputs": [
    {
     "name": "stdout",
     "output_type": "stream",
     "text": [
      "Ram\n",
      "Shyam\n",
      "Hari\n",
      "Ramesh\n",
      "Ram\n"
     ]
    }
   ],
   "source": [
    "a = ['Ram','Shyam','Hari','Ramesh','Ram']\n",
    "n = len(a)\n",
    "for i in range(n):\n",
    "    print(a[i])"
   ]
  },
  {
   "cell_type": "code",
   "execution_count": 48,
   "id": "52c14e79",
   "metadata": {},
   "outputs": [
    {
     "name": "stdout",
     "output_type": "stream",
     "text": [
      "P\n",
      "y\n",
      "t\n",
      "h\n",
      "o\n",
      "n\n"
     ]
    }
   ],
   "source": [
    "a = \"Python\"\n",
    "n = len(a)\n",
    "for i in range(n):\n",
    "    print(a[i])"
   ]
  },
  {
   "cell_type": "code",
   "execution_count": 51,
   "id": "5629dee0",
   "metadata": {},
   "outputs": [
    {
     "name": "stdout",
     "output_type": "stream",
     "text": [
      "0 Ram\n",
      "4 Ram\n",
      "6 Ram\n"
     ]
    }
   ],
   "source": [
    "a = ['Ram','Shyam','Hari','Ramesh','Ram','Shyam','Ram']\n",
    "n = len(a)\n",
    "for i in range(n):\n",
    "    if a[i] == \"Ram\":\n",
    "        print(i,a[i])"
   ]
  },
  {
   "cell_type": "code",
   "execution_count": 54,
   "id": "41875a53",
   "metadata": {},
   "outputs": [
    {
     "name": "stdout",
     "output_type": "stream",
     "text": [
      "0 Shyam\n",
      "1 Hari\n",
      "2 Ramesh\n",
      "3 Shyam\n"
     ]
    },
    {
     "ename": "IndexError",
     "evalue": "list index out of range",
     "output_type": "error",
     "traceback": [
      "\u001b[0;31m---------------------------------------------------------------------------\u001b[0m",
      "\u001b[0;31mIndexError\u001b[0m                                Traceback (most recent call last)",
      "\u001b[0;32m/var/folders/6p/z3xlv3gs3l75_5kcgj0sgj4c0000gn/T/ipykernel_22377/850053505.py\u001b[0m in \u001b[0;36m<module>\u001b[0;34m\u001b[0m\n\u001b[1;32m      4\u001b[0m     \u001b[0;32mif\u001b[0m \u001b[0ma\u001b[0m\u001b[0;34m[\u001b[0m\u001b[0mi\u001b[0m\u001b[0;34m]\u001b[0m \u001b[0;34m==\u001b[0m \u001b[0;34m\"Ram\"\u001b[0m\u001b[0;34m:\u001b[0m\u001b[0;34m\u001b[0m\u001b[0;34m\u001b[0m\u001b[0m\n\u001b[1;32m      5\u001b[0m         \u001b[0ma\u001b[0m\u001b[0;34m.\u001b[0m\u001b[0mremove\u001b[0m\u001b[0;34m(\u001b[0m\u001b[0;34m\"Ram\"\u001b[0m\u001b[0;34m)\u001b[0m\u001b[0;34m\u001b[0m\u001b[0;34m\u001b[0m\u001b[0m\n\u001b[0;32m----> 6\u001b[0;31m     \u001b[0mprint\u001b[0m\u001b[0;34m(\u001b[0m\u001b[0mi\u001b[0m\u001b[0;34m,\u001b[0m\u001b[0ma\u001b[0m\u001b[0;34m[\u001b[0m\u001b[0mi\u001b[0m\u001b[0;34m]\u001b[0m\u001b[0;34m)\u001b[0m\u001b[0;34m\u001b[0m\u001b[0;34m\u001b[0m\u001b[0m\n\u001b[0m",
      "\u001b[0;31mIndexError\u001b[0m: list index out of range"
     ]
    }
   ],
   "source": [
    "a = ['Ram','Shyam','Hari','Ramesh','Ram','Shyam','Ram']\n",
    "n = len(a)\n",
    "for i in range(n):\n",
    "    if a[i] == \"Ram\":\n",
    "        a.remove(\"Ram\")\n",
    "    print(i,a[i])"
   ]
  },
  {
   "cell_type": "code",
   "execution_count": 55,
   "id": "cd30ce23",
   "metadata": {},
   "outputs": [
    {
     "data": {
      "text/plain": [
       "['Raj', 'Shyam', 'Hari', 'Ramesh', 'Ram', 'Shyam', 'Ram']"
      ]
     },
     "execution_count": 55,
     "metadata": {},
     "output_type": "execute_result"
    }
   ],
   "source": [
    "# update\n",
    "a = ['Ram','Shyam','Hari','Ramesh','Ram','Shyam','Ram']\n",
    "a[0] = \"Raj\"\n",
    "a"
   ]
  },
  {
   "cell_type": "code",
   "execution_count": 57,
   "id": "d79c0a1a",
   "metadata": {},
   "outputs": [
    {
     "data": {
      "text/plain": [
       "['Raj', 'Sam', 'Rajan', 'Deshant', 'Ram', 'Shyam', 'Ram']"
      ]
     },
     "execution_count": 57,
     "metadata": {},
     "output_type": "execute_result"
    }
   ],
   "source": [
    "# update\n",
    "a = ['Ram','Shyam','Hari','Ramesh','Ram','Shyam','Ram']\n",
    "a[0:4] = [\"Raj\",\"Sam\",\"Rajan\",\"Deshant\"]\n",
    "a"
   ]
  },
  {
   "cell_type": "code",
   "execution_count": 58,
   "id": "e7897b35",
   "metadata": {},
   "outputs": [],
   "source": [
    "# multidimention list\n",
    "# tupple"
   ]
  },
  {
   "cell_type": "code",
   "execution_count": 63,
   "id": "ea1bd913",
   "metadata": {},
   "outputs": [
    {
     "data": {
      "text/plain": [
       "['Apple 300 3 600', 'Banana 100 3 300']"
      ]
     },
     "execution_count": 63,
     "metadata": {},
     "output_type": "execute_result"
    }
   ],
   "source": [
    "a = \"Apple 300 3 600\\nBanana 100 3 300\"\n",
    "a.split('\\n')"
   ]
  },
  {
   "cell_type": "code",
   "execution_count": 1,
   "id": "476c661c",
   "metadata": {},
   "outputs": [],
   "source": [
    "# list inside list\n",
    "a = [[1,2,3],\n",
    "     [4,5,6],\n",
    "     [7,8,9]]"
   ]
  },
  {
   "cell_type": "code",
   "execution_count": 5,
   "id": "01381819",
   "metadata": {},
   "outputs": [
    {
     "name": "stdout",
     "output_type": "stream",
     "text": [
      "3\n"
     ]
    }
   ],
   "source": [
    "a = [['Ram',67,'Kathmandu'],\n",
    "    ['Shyam',32,'Bhaktpur'],\n",
    "    ['Hari',78,'Lalitpur']]\n",
    "print(len(a))"
   ]
  },
  {
   "cell_type": "code",
   "execution_count": 7,
   "id": "9353e6f3",
   "metadata": {},
   "outputs": [
    {
     "data": {
      "text/plain": [
       "['Hari', 78, 'Lalitpur']"
      ]
     },
     "execution_count": 7,
     "metadata": {},
     "output_type": "execute_result"
    }
   ],
   "source": [
    "a = [['Ram',67,'Kathmandu'],\n",
    "    ['Shyam',32,'Bhaktpur'],\n",
    "    ['Hari',78,'Lalitpur']]\n",
    "a[2]"
   ]
  },
  {
   "cell_type": "code",
   "execution_count": 10,
   "id": "bc3d102c",
   "metadata": {},
   "outputs": [
    {
     "name": "stdout",
     "output_type": "stream",
     "text": [
      "Shyam\n"
     ]
    }
   ],
   "source": [
    "a = [['Ram',67,'Kathmandu'],#00,01,02\n",
    "    ['Shyam',32,'Bhaktpur'],#10,11,12\n",
    "    ['Hari',78,'Lalitpur']]#20,21,22\n",
    "print(a[1][0])"
   ]
  },
  {
   "cell_type": "code",
   "execution_count": 13,
   "id": "d798dbb0",
   "metadata": {},
   "outputs": [
    {
     "data": {
      "text/plain": [
       "[['Ram', 67, 'Kathmandu'],\n",
       " ['Shyam', 32, 'Bhaktpur'],\n",
       " ['Hari', 78, 'Lalitpur'],\n",
       " ['Anuj', 21, 'Manang']]"
      ]
     },
     "execution_count": 13,
     "metadata": {},
     "output_type": "execute_result"
    }
   ],
   "source": [
    "a = [['Ram',67,'Kathmandu'],\n",
    "    ['Shyam',32,'Bhaktpur'],\n",
    "    ['Hari',78,'Lalitpur']]\n",
    "a = a+[['Anuj',21,'Manang']]\n",
    "a"
   ]
  },
  {
   "cell_type": "code",
   "execution_count": 14,
   "id": "eafd5fa4",
   "metadata": {},
   "outputs": [
    {
     "name": "stdout",
     "output_type": "stream",
     "text": [
      "Enter n = 2\n",
      "Enter name = Ram\n",
      "Enter age = 45\n",
      "Enter address = hatiban\n",
      "Enter name = sam\n",
      "Enter age = 30\n",
      "Enter address = godawari\n",
      "[['Ram', 45, 'hatiban'], ['sam', 30, 'godawari']]\n"
     ]
    }
   ],
   "source": [
    "n = int(input(\"Enter n = \"))\n",
    "data = []\n",
    "for i in range(n):\n",
    "    name = input(\"Enter name = \")\n",
    "    age = int(input(\"Enter age = \"))\n",
    "    add = input(\"Enter address = \")\n",
    "    info = [name,age,add]\n",
    "    data.append(info)\n",
    "    \n",
    "print(data)"
   ]
  },
  {
   "cell_type": "code",
   "execution_count": 16,
   "id": "06971baa",
   "metadata": {},
   "outputs": [
    {
     "data": {
      "text/plain": [
       "[['Ram', 45, 'hatiban'], ['sam', 30, 'godawari'], ['Hari', 90, 'Bara']]"
      ]
     },
     "execution_count": 16,
     "metadata": {},
     "output_type": "execute_result"
    }
   ],
   "source": [
    "x = [['Ram', 45, 'Hatiban'], ['Sam', 30, 'Godawari']]\n",
    "x.append(['Hari',90,'Bara'])\n",
    "x"
   ]
  },
  {
   "cell_type": "code",
   "execution_count": 20,
   "id": "199eb641",
   "metadata": {},
   "outputs": [
    {
     "data": {
      "text/plain": [
       "[['Rajan', 45, 'hatiban'], ['sam', 30, 'godawari'], ['Hari', 90, 'Bara']]"
      ]
     },
     "execution_count": 20,
     "metadata": {},
     "output_type": "execute_result"
    }
   ],
   "source": [
    "x[0][0] = 'Rajan'\n",
    "x"
   ]
  },
  {
   "cell_type": "code",
   "execution_count": 30,
   "id": "f202aa52",
   "metadata": {},
   "outputs": [
    {
     "name": "stdout",
     "output_type": "stream",
     "text": [
      "Enter name = Ram\n",
      "['Ram', 67, 'Kathmandu']\n"
     ]
    }
   ],
   "source": [
    "# search\n",
    "x = [['Ram',67,'Kathmandu'],\n",
    "    ['Shyam',32,'Bhaktpur'],\n",
    "    ['Hari',78,'Lalitpur']]\n",
    "\n",
    "search = input(\"Enter name = \")\n",
    "\n",
    "for i in x:\n",
    "    if search in i:\n",
    "        print(i)"
   ]
  },
  {
   "cell_type": "code",
   "execution_count": 33,
   "id": "a460c765",
   "metadata": {},
   "outputs": [
    {
     "name": "stdout",
     "output_type": "stream",
     "text": [
      "Enter name = Shyam\n",
      "[['Ram', 67, 'Kathmandu'], ['Hari', 78, 'Lalitpur']]\n"
     ]
    }
   ],
   "source": [
    "# delete\n",
    "x = [['Ram',67,'Kathmandu'],\n",
    "    ['Shyam',32,'Bhaktpur'],\n",
    "    ['Hari',78,'Lalitpur']]\n",
    "\n",
    "delete = input(\"Enter name = \")\n",
    "\n",
    "for i in x:\n",
    "    if delete in i:\n",
    "        x.remove(i)\n",
    "print(x)"
   ]
  },
  {
   "cell_type": "code",
   "execution_count": 12,
   "id": "5a5ece7c",
   "metadata": {},
   "outputs": [
    {
     "name": "stdout",
     "output_type": "stream",
     "text": [
      "Enter name = Hari\n",
      "2\n",
      "[['Ram', 67, 'Kathmandu'], ['Shyam', 32, 'Bhaktpur'], ['Hari', 78, 'Lalitpur']]\n"
     ]
    }
   ],
   "source": [
    "# index\n",
    "x = [['Ram',67,'Kathmandu'],\n",
    "    ['Shyam',32,'Bhaktpur'],\n",
    "    ['Hari',78,'Lalitpur']]\n",
    "l = len(x)\n",
    "\n",
    "index = input(\"Enter name = \")\n",
    "\n",
    "for i in range(l):\n",
    "    if index in x[i]:\n",
    "        print(i)\n",
    "\n",
    "print(x)"
   ]
  },
  {
   "cell_type": "code",
   "execution_count": 17,
   "id": "f85d18dc",
   "metadata": {},
   "outputs": [
    {
     "name": "stdout",
     "output_type": "stream",
     "text": [
      "Enter name = Ram\n",
      "['Ram, Kam, Pam', 67, 'Kathmandu']\n",
      "['Ram', 67, 'Kathmandu']\n"
     ]
    }
   ],
   "source": [
    "# search\n",
    "x = [['Ram, Kam, Pam',67,'Kathmandu'],['Shyam',32,'Bhaktpur'],['Hari',78,'Lalitpur'],['Ram',67,'Kathmandu']]\n",
    "\n",
    "search = input(\"Enter name = \")\n",
    "\n",
    "for i in x:\n",
    "    if search in i[0]:\n",
    "        print(i)"
   ]
  },
  {
   "cell_type": "code",
   "execution_count": 18,
   "id": "474d4302",
   "metadata": {},
   "outputs": [
    {
     "name": "stdout",
     "output_type": "stream",
     "text": [
      "Apple 300 2 600\n",
      "Banana 100 3 300\n"
     ]
    }
   ],
   "source": [
    "# split\n",
    "a = \"Apple 300 2 600\\nBanana 100 3 300\"\n",
    "print(a)"
   ]
  },
  {
   "cell_type": "code",
   "execution_count": 19,
   "id": "e33c5b98",
   "metadata": {},
   "outputs": [
    {
     "data": {
      "text/plain": [
       "['Apple 300 2 600', 'Banana 100 3 300']"
      ]
     },
     "execution_count": 19,
     "metadata": {},
     "output_type": "execute_result"
    }
   ],
   "source": [
    "a = \"Apple 300 2 600\\nBanana 100 3 300\"\n",
    "x = a.split('\\n')\n",
    "x"
   ]
  },
  {
   "cell_type": "code",
   "execution_count": 20,
   "id": "2090cd26",
   "metadata": {},
   "outputs": [
    {
     "name": "stdout",
     "output_type": "stream",
     "text": [
      "['Apple 300 2 600', 'Banana 100 3 300']\n",
      "['Apple', '300', '2', '600']\n",
      "['Banana', '100', '3', '300']\n"
     ]
    }
   ],
   "source": [
    "a = \"Apple 300 2 600\\nBanana 100 3 300\"\n",
    "x = a.split('\\n')\n",
    "print(x)\n",
    "for i in x:\n",
    "    print(i.split(' '))# or print(i.split())"
   ]
  },
  {
   "cell_type": "code",
   "execution_count": 21,
   "id": "b3e3d3f4",
   "metadata": {},
   "outputs": [
    {
     "name": "stdout",
     "output_type": "stream",
     "text": [
      "['Apple 300 2 600', 'Banana 100 3 300']\n",
      "[['Apple', '300', '2', '600'], ['Banana', '100', '3', '300']]\n"
     ]
    }
   ],
   "source": [
    "a = \"Apple 300 2 600\\nBanana 100 3 300\"\n",
    "x = a.split('\\n')\n",
    "print(x)\n",
    "data = []\n",
    "for i in x:\n",
    "    y = i.split()\n",
    "    data.append(y)\n",
    "print(data)"
   ]
  },
  {
   "cell_type": "code",
   "execution_count": null,
   "id": "048d7573",
   "metadata": {},
   "outputs": [],
   "source": []
  },
  {
   "cell_type": "code",
   "execution_count": null,
   "id": "92f8fcda",
   "metadata": {},
   "outputs": [],
   "source": [
    "# assignment\n",
    "# create a matrix using row and col input from user //nested list"
   ]
  },
  {
   "cell_type": "code",
   "execution_count": 6,
   "id": "d914a3ad",
   "metadata": {},
   "outputs": [
    {
     "name": "stdout",
     "output_type": "stream",
     "text": [
      "Enter n = 3\n",
      "Enter a0 = 11\n",
      "Enter a1 = 22\n",
      "Enter a2 = 33\n",
      "Enter a0 = 44\n",
      "Enter a1 = 55\n",
      "Enter a2 = 66\n",
      "Enter a0 = 7\n",
      "Enter a1 = 8\n",
      "Enter a2 = 9\n",
      "[['11', '22', '33'], ['44', '55', '66'], ['7', '8', '9']]\n"
     ]
    }
   ],
   "source": [
    "n = int(input(\"Enter n = \"))\n",
    "mat = []\n",
    "for i in range(n):\n",
    "    a0 = input(\"Enter a0 = \")\n",
    "    a1 = input(\"Enter a1 = \")\n",
    "    a2 = input(\"Enter a2 = \")\n",
    "    matx = [a0,a1,a2]\n",
    "    mat.append(matx)\n",
    "    \n",
    "print(mat)"
   ]
  },
  {
   "cell_type": "code",
   "execution_count": null,
   "id": "a835244b",
   "metadata": {},
   "outputs": [],
   "source": []
  }
 ],
 "metadata": {
  "kernelspec": {
   "display_name": "Python 3 (ipykernel)",
   "language": "python",
   "name": "python3"
  },
  "language_info": {
   "codemirror_mode": {
    "name": "ipython",
    "version": 3
   },
   "file_extension": ".py",
   "mimetype": "text/x-python",
   "name": "python",
   "nbconvert_exporter": "python",
   "pygments_lexer": "ipython3",
   "version": "3.9.13"
  }
 },
 "nbformat": 4,
 "nbformat_minor": 5
}
