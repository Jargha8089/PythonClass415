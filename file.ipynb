{
 "cells": [
  {
   "cell_type": "code",
   "execution_count": null,
   "id": "27f71340",
   "metadata": {},
   "outputs": [],
   "source": [
    "# file\n",
    "# txt csv extentions\n",
    "# b = open('<file name>','<mode>')#b = object\n",
    "# b.close()\n",
    "\n",
    "# with open('<file name>','<mode>') as f:#means denoted by f\n",
    "#     <operations>\n",
    "\n",
    "modes\n",
    "r -> read\n",
    "x -> create\n",
    "w -> write\n",
    "a -> append"
   ]
  },
  {
   "cell_type": "code",
   "execution_count": 1,
   "id": "541f5f55",
   "metadata": {},
   "outputs": [],
   "source": [
    "b = open('data.txt','x')\n",
    "b.close() # only run one time for this error handels by exception handdling"
   ]
  },
  {
   "cell_type": "code",
   "execution_count": 2,
   "id": "570b4e4d",
   "metadata": {},
   "outputs": [
    {
     "name": "stdout",
     "output_type": "stream",
     "text": [
      "The file is already there\n"
     ]
    }
   ],
   "source": [
    "try:\n",
    "    b = open('data.txt','x')\n",
    "    b.close()\n",
    "except:\n",
    "    print(\"The file is already there\")"
   ]
  },
  {
   "cell_type": "code",
   "execution_count": 4,
   "id": "f0385c11",
   "metadata": {},
   "outputs": [
    {
     "name": "stdout",
     "output_type": "stream",
     "text": [
      "1. Hello World\n",
      "2. Hello Country\n",
      "3. Hello Continents\n",
      "4. Hello Zone\n",
      "5. Hello Me\n",
      "6. Hello there\n",
      "<class 'str'>\n"
     ]
    }
   ],
   "source": [
    "file = open('data.txt','r')\n",
    "x = file.read()\n",
    "print(x)\n",
    "print(type(x))\n",
    "file.close() # always close"
   ]
  },
  {
   "cell_type": "code",
   "execution_count": 5,
   "id": "f9079397",
   "metadata": {},
   "outputs": [
    {
     "data": {
      "text/plain": [
       "['1. Hello World',\n",
       " '2. Hello Country',\n",
       " '3. Hello Continents',\n",
       " '4. Hello Zone',\n",
       " '5. Hello Me',\n",
       " '6. Hello there']"
      ]
     },
     "execution_count": 5,
     "metadata": {},
     "output_type": "execute_result"
    }
   ],
   "source": [
    "x.split('\\n')"
   ]
  },
  {
   "cell_type": "code",
   "execution_count": 7,
   "id": "1cb9efef",
   "metadata": {},
   "outputs": [
    {
     "name": "stdout",
     "output_type": "stream",
     "text": [
      "Enter line no = 5\n",
      "5. Hello Me\n"
     ]
    }
   ],
   "source": [
    "data = x.split('\\n')\n",
    "line_no = int(input(\"Enter line no = \"))\n",
    "print(data[line_no-1])"
   ]
  },
  {
   "cell_type": "code",
   "execution_count": 8,
   "id": "a1297acf",
   "metadata": {},
   "outputs": [
    {
     "name": "stdout",
     "output_type": "stream",
     "text": [
      "1. Hello World\n",
      "\n",
      "<class 'str'>\n"
     ]
    }
   ],
   "source": [
    "file = open('data.txt','r')\n",
    "x = file.readline()\n",
    "print(x)\n",
    "print(type(x))\n",
    "file.close()"
   ]
  },
  {
   "cell_type": "code",
   "execution_count": 12,
   "id": "37844a85",
   "metadata": {},
   "outputs": [
    {
     "name": "stdout",
     "output_type": "stream",
     "text": [
      "1. Hello World\n",
      "2. Hello Co\n",
      "<class 'str'>\n"
     ]
    }
   ],
   "source": [
    "file = open('data.txt','r')\n",
    "x = file.read(26)\n",
    "print(x)\n",
    "print(type(x))\n",
    "file.close()"
   ]
  },
  {
   "cell_type": "code",
   "execution_count": 14,
   "id": "9523e706",
   "metadata": {},
   "outputs": [],
   "source": [
    "file = open('data.txt','w') # w first create file then write\n",
    "file.write('How u doing')\n",
    "file.close()"
   ]
  },
  {
   "cell_type": "code",
   "execution_count": 15,
   "id": "c048d49a",
   "metadata": {},
   "outputs": [
    {
     "name": "stdout",
     "output_type": "stream",
     "text": [
      "How u doing\n"
     ]
    }
   ],
   "source": [
    "file = open('data.txt','r')\n",
    "x = file.read()\n",
    "print(x)\n",
    "file.close()"
   ]
  },
  {
   "cell_type": "code",
   "execution_count": 19,
   "id": "bcf5d797",
   "metadata": {},
   "outputs": [
    {
     "name": "stdout",
     "output_type": "stream",
     "text": [
      "Enter n = 3\n",
      "Enter name = Apple\n",
      "Enter price = 400\n",
      "Enter quantity = 3\n",
      "Enter name = Banana\n",
      "Enter price = 40\n",
      "Enter quantity = 12\n",
      "Enter name = Orange\n",
      "Enter price = 300\n",
      "Enter quantity = 2\n",
      "Apple 400 * 3 = 1200\n",
      "Banana 40 * 12 = 480\n",
      "Orange 300 * 2 = 600\n",
      "\n",
      "All total =  2280\n"
     ]
    }
   ],
   "source": [
    "s = 0\n",
    "bill = str()\n",
    "n = int(input(\"Enter n = \"))\n",
    "for i in range(n):\n",
    "    name = input(\"Enter name = \")\n",
    "    price = int(input(\"Enter price = \"))\n",
    "    quantity = int(input(\"Enter quantity = \"))\n",
    "    total = price*quantity\n",
    "    bill = bill + f\"{name} {price} * {quantity} = {total}\\n\"\n",
    "    s = s+total\n",
    "print(bill)\n",
    "print(\"All total = \",s)\n",
    "\n",
    "file = open('bill.txt','w') # w first create file then write\n",
    "file.write(bill)\n",
    "file.close()"
   ]
  },
  {
   "cell_type": "code",
   "execution_count": 20,
   "id": "56fb72c2",
   "metadata": {},
   "outputs": [
    {
     "name": "stdout",
     "output_type": "stream",
     "text": [
      "Apple 400 * 3 = 1200\n",
      "Banana 40 * 12 = 480\n",
      "Orange 300 * 2 = 600\n",
      "\n"
     ]
    }
   ],
   "source": [
    "file = open('bill.txt','r')\n",
    "x = file.read()\n",
    "print(x)\n",
    "file.close()"
   ]
  },
  {
   "cell_type": "code",
   "execution_count": 21,
   "id": "dfc5e32a",
   "metadata": {},
   "outputs": [
    {
     "data": {
      "text/plain": [
       "'/Users/anuj/python430'"
      ]
     },
     "execution_count": 21,
     "metadata": {},
     "output_type": "execute_result"
    }
   ],
   "source": [
    "pwd # path of this file"
   ]
  },
  {
   "cell_type": "code",
   "execution_count": 24,
   "id": "68b13df4",
   "metadata": {},
   "outputs": [
    {
     "name": "stdout",
     "output_type": "stream",
     "text": [
      "Enter n = 3\n",
      "Enter name = apple\n",
      "Enter price = 500\n",
      "Enter quantity = 3\n",
      "Enter name = Banana\n",
      "Enter price = 200\n",
      "Enter quantity = 3\n",
      "Enter name = Orange\n",
      "Enter price = 444\n",
      "Enter quantity = 2\n",
      "apple,500,3,1500\n",
      "Banana,200,3,600\n",
      "Orange,444,2,888\n",
      "\n",
      "All total =  2988\n"
     ]
    }
   ],
   "source": [
    "# for excel\n",
    "s = 0\n",
    "bill = str()\n",
    "n = int(input(\"Enter n = \"))\n",
    "for i in range(n):\n",
    "    name = input(\"Enter name = \")\n",
    "    price = int(input(\"Enter price = \"))\n",
    "    quantity = int(input(\"Enter quantity = \"))\n",
    "    total = price*quantity\n",
    "    bill = bill + f\"{name},{price},{quantity},{total}\\n\"\n",
    "    s = s+total\n",
    "print(bill)\n",
    "print(\"All total = \",s)\n",
    "\n",
    "file = open('bill.csv','w') # w first create file then write\n",
    "file.write('Name,Price,Quantity,Total\\n')\n",
    "file.write(bill)\n",
    "file.close()"
   ]
  },
  {
   "cell_type": "code",
   "execution_count": null,
   "id": "8beb976b",
   "metadata": {},
   "outputs": [],
   "source": []
  }
 ],
 "metadata": {
  "kernelspec": {
   "display_name": "Python 3 (ipykernel)",
   "language": "python",
   "name": "python3"
  },
  "language_info": {
   "codemirror_mode": {
    "name": "ipython",
    "version": 3
   },
   "file_extension": ".py",
   "mimetype": "text/x-python",
   "name": "python",
   "nbconvert_exporter": "python",
   "pygments_lexer": "ipython3",
   "version": "3.9.13"
  }
 },
 "nbformat": 4,
 "nbformat_minor": 5
}
