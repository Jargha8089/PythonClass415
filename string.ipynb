{
 "cells": [
  {
   "cell_type": "code",
   "execution_count": 2,
   "id": "809ad5b9",
   "metadata": {},
   "outputs": [
    {
     "name": "stdout",
     "output_type": "stream",
     "text": [
      "<class 'str'>\n",
      "<class 'str'>\n",
      "<class 'str'>\n"
     ]
    }
   ],
   "source": [
    "# string\n",
    "a = \"Hello World\"\n",
    "b = \"Hello Wrold\"\n",
    "c = '''Hello World'''\n",
    "print(type (a))\n",
    "print(type (b))\n",
    "print(type (c))"
   ]
  },
  {
   "cell_type": "code",
   "execution_count": 3,
   "id": "7e3139f2",
   "metadata": {},
   "outputs": [
    {
     "name": "stdout",
     "output_type": "stream",
     "text": [
      "HelloWorld\n"
     ]
    }
   ],
   "source": [
    "a = \"Hello\"\n",
    "b = \"World\"\n",
    "c = a+b\n",
    "print(c)"
   ]
  },
  {
   "cell_type": "code",
   "execution_count": 4,
   "id": "fbd06f2a",
   "metadata": {},
   "outputs": [
    {
     "name": "stdout",
     "output_type": "stream",
     "text": [
      "Hello World\n",
      "Hello World\n",
      "\n"
     ]
    }
   ],
   "source": [
    "a= \"Hello World\\n\"\n",
    "print(a*2)"
   ]
  },
  {
   "cell_type": "code",
   "execution_count": 6,
   "id": "ed3d73b1",
   "metadata": {},
   "outputs": [
    {
     "name": "stdout",
     "output_type": "stream",
     "text": [
      "Hello World\n"
     ]
    }
   ],
   "source": [
    "for i in a:\n",
    "    print(i,end = \"\")"
   ]
  },
  {
   "cell_type": "code",
   "execution_count": 8,
   "id": "08dc5fe9",
   "metadata": {},
   "outputs": [
    {
     "name": "stdout",
     "output_type": "stream",
     "text": [
      "Enter a = 34\n",
      "34\n"
     ]
    }
   ],
   "source": [
    "a = input(\"Enter a = \")\n",
    "print(a)"
   ]
  },
  {
   "cell_type": "code",
   "execution_count": 16,
   "id": "3cb6590a",
   "metadata": {},
   "outputs": [
    {
     "data": {
      "text/plain": [
       "'o'"
      ]
     },
     "execution_count": 16,
     "metadata": {},
     "output_type": "execute_result"
    }
   ],
   "source": [
    "a = \"Hello World\"\n",
    "a[4]"
   ]
  },
  {
   "cell_type": "code",
   "execution_count": 17,
   "id": "096beab0",
   "metadata": {},
   "outputs": [
    {
     "data": {
      "text/plain": [
       "'Hello Wo'"
      ]
     },
     "execution_count": 17,
     "metadata": {},
     "output_type": "execute_result"
    }
   ],
   "source": [
    "a = \"Hello World\"\n",
    "a[0:8]"
   ]
  },
  {
   "cell_type": "code",
   "execution_count": 20,
   "id": "83efbd62",
   "metadata": {},
   "outputs": [
    {
     "data": {
      "text/plain": [
       "'HloW'"
      ]
     },
     "execution_count": 20,
     "metadata": {},
     "output_type": "execute_result"
    }
   ],
   "source": [
    "a = \"Hello World\"\n",
    "a[0:8:2]"
   ]
  },
  {
   "cell_type": "code",
   "execution_count": 23,
   "id": "9e045e02",
   "metadata": {},
   "outputs": [
    {
     "data": {
      "text/plain": [
       "11"
      ]
     },
     "execution_count": 23,
     "metadata": {},
     "output_type": "execute_result"
    }
   ],
   "source": [
    "a = \"Hello World\"\n",
    "a = len(a)\n",
    "a"
   ]
  },
  {
   "cell_type": "code",
   "execution_count": 26,
   "id": "cfc8bda3",
   "metadata": {},
   "outputs": [
    {
     "data": {
      "text/plain": [
       "'dlroW olleH'"
      ]
     },
     "execution_count": 26,
     "metadata": {},
     "output_type": "execute_result"
    }
   ],
   "source": [
    "a = \"Hello World\" #empty in middle for 1st value also called slicing\n",
    "a[-1::-1]"
   ]
  },
  {
   "cell_type": "code",
   "execution_count": 30,
   "id": "1faede54",
   "metadata": {},
   "outputs": [
    {
     "name": "stdout",
     "output_type": "stream",
     "text": [
      "Hello World I am Jargha I am 22 I am from Kathmandu\n"
     ]
    }
   ],
   "source": [
    "name = \"Jargha\"#problem\n",
    "age = 22\n",
    "add = \"Kathmandu\"\n",
    "info = \"Hello World I am \"+name+\" I am \"+str(age)+\" I am from \"+add\n",
    "print(info)"
   ]
  },
  {
   "cell_type": "code",
   "execution_count": 35,
   "id": "b7786209",
   "metadata": {},
   "outputs": [
    {
     "name": "stdout",
     "output_type": "stream",
     "text": [
      "Enter name = fd\n",
      "Enter age = 44\n",
      "Enter add = ktm\n",
      "Hello World I am fd. I am from ktm. I am 44.\n"
     ]
    }
   ],
   "source": [
    "# formatting problem\n",
    "name = input(\"Enter name = \")\n",
    "age = int(input(\"Enter age = \"))\n",
    "add = input(\"Enter add = \")\n",
    "info = f\"Hello World I am {name}. I am from {add}. I am {age}.\"\n",
    "print(info)\n",
    "# f is for formatting"
   ]
  },
  {
   "cell_type": "code",
   "execution_count": 38,
   "id": "93d8a342",
   "metadata": {},
   "outputs": [
    {
     "name": "stdout",
     "output_type": "stream",
     "text": [
      "Enter n = 3\n",
      "Enter name = apple\n",
      "Enter price = 400\n",
      "Enter quantity = 3\n",
      "Enter name = banana\n",
      "Enter price = 300\n",
      "Enter quantity = 2\n",
      "Enter name = orange\n",
      "Enter price = 300\n",
      "Enter quantity = 4\n",
      "All total =  3000\n",
      "apple 400 * 3 = 1200\n",
      "banana 300 * 2 = 600\n",
      "orange 300 * 4 = 1200\n",
      "\n"
     ]
    }
   ],
   "source": [
    "s = 0\n",
    "bill = str()\n",
    "n = int(input(\"Enter n = \"))\n",
    "for i in range(n):\n",
    "    name = input(\"Enter name = \")\n",
    "    price = int(input(\"Enter price = \"))\n",
    "    quantity = int(input(\"Enter quantity = \"))\n",
    "    total = price*quantity\n",
    "    bill = bill + f\"{name} {price} * {quantity} = {total}\\n\"\n",
    "    s = s+total\n",
    "print(\"All total = \",s)\n",
    "print(bill)\n",
    "#string is immutable data type"
   ]
  },
  {
   "cell_type": "code",
   "execution_count": 43,
   "id": "3e6b708a",
   "metadata": {},
   "outputs": [
    {
     "name": "stdout",
     "output_type": "stream",
     "text": [
      "There is Ram\n"
     ]
    }
   ],
   "source": [
    "a = \"Ram Shyam Hari Sita Gita Ramesh\"\n",
    "if \"Ram\" in a:\n",
    "    print(\"There is Ram\")\n",
    "else:\n",
    "    print(\"No\")"
   ]
  },
  {
   "cell_type": "code",
   "execution_count": 48,
   "id": "d3bdc977",
   "metadata": {},
   "outputs": [
    {
     "name": "stdout",
     "output_type": "stream",
     "text": [
      "Enter search value = am\n",
      "Yes there is am\n",
      "3\n"
     ]
    }
   ],
   "source": [
    "a = \"Ram Shyam Hari Sita Gita Ramesh\"\n",
    "b = input(\"Enter search value = \")\n",
    "if b in a:\n",
    "    print(\"Yes there is\",b)\n",
    "    print(a.count(b))\n",
    "else:\n",
    "    print(\"No\")"
   ]
  },
  {
   "cell_type": "code",
   "execution_count": 49,
   "id": "e28176c0",
   "metadata": {},
   "outputs": [
    {
     "name": "stdout",
     "output_type": "stream",
     "text": [
      "ram shyam hari sita gita ramesh\n",
      "RAM SHYAM HARI SITA GITA RAMESH\n",
      "Ram Shyam Hari Sita Gita Ramesh\n"
     ]
    }
   ],
   "source": [
    "a = \"Ram Shyam Hari Sita Gita Ramesh\"\n",
    "print(a.lower())\n",
    "print(a.upper())\n",
    "print(a)"
   ]
  },
  {
   "cell_type": "code",
   "execution_count": 51,
   "id": "a94a7860",
   "metadata": {},
   "outputs": [
    {
     "name": "stdout",
     "output_type": "stream",
     "text": [
      "Enter search value = esh\n",
      "Yes there is esh\n",
      "1\n"
     ]
    }
   ],
   "source": [
    "a = \"Ram Shyam Hari Sita Gita Ramesh\".lower()\n",
    "b = input(\"Enter search value = \").lower()\n",
    "if b in a:\n",
    "    print(\"Yes there is\",b)\n",
    "    print(a.count(b))\n",
    "else:\n",
    "    print(\"No\")"
   ]
  },
  {
   "cell_type": "code",
   "execution_count": 60,
   "id": "abe29d6b",
   "metadata": {},
   "outputs": [
    {
     "name": "stdout",
     "output_type": "stream",
     "text": [
      "Enter any no = 123\n",
      "Enter next no = 321\n",
      "Yes\n"
     ]
    }
   ],
   "source": [
    "a = input(\"Enter any no = \")\n",
    "b = input(\"Enter next no = \")\n",
    "if a == b[::-1]:\n",
    "    print(\"Yes\")\n",
    "else:\n",
    "    print(\"No\")"
   ]
  },
  {
   "cell_type": "code",
   "execution_count": 64,
   "id": "3d3f55f8",
   "metadata": {},
   "outputs": [
    {
     "name": "stdout",
     "output_type": "stream",
     "text": [
      "Raj Shyam Hari Sita Gita Rajesh\n",
      "Ram Shyam Hari Sita Gita Ramesh\n"
     ]
    }
   ],
   "source": [
    "# replace\n",
    "a = \"Ram Shyam Hari Sita Gita Ramesh\"\n",
    "print(a.replace('Ram','Raj'))\n",
    "print(a)"
   ]
  },
  {
   "cell_type": "code",
   "execution_count": 65,
   "id": "42f65e0b",
   "metadata": {},
   "outputs": [
    {
     "data": {
      "text/plain": [
       "'Raj Shyam Hari Sita Gita Rajesh'"
      ]
     },
     "execution_count": 65,
     "metadata": {},
     "output_type": "execute_result"
    }
   ],
   "source": [
    "# forcefully replace\n",
    "a = \"Ram Shyam Hari Sita Gita Ramesh\"\n",
    "a = a.replace(\"Ram\",\"Raj\")\n",
    "a"
   ]
  },
  {
   "cell_type": "code",
   "execution_count": null,
   "id": "ca287445",
   "metadata": {},
   "outputs": [],
   "source": [
    "# list set array"
   ]
  }
 ],
 "metadata": {
  "kernelspec": {
   "display_name": "Python 3 (ipykernel)",
   "language": "python",
   "name": "python3"
  },
  "language_info": {
   "codemirror_mode": {
    "name": "ipython",
    "version": 3
   },
   "file_extension": ".py",
   "mimetype": "text/x-python",
   "name": "python",
   "nbconvert_exporter": "python",
   "pygments_lexer": "ipython3",
   "version": "3.9.13"
  }
 },
 "nbformat": 4,
 "nbformat_minor": 5
}
