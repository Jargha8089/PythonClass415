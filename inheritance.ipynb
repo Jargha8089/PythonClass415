{
 "cells": [
  {
   "cell_type": "code",
   "execution_count": null,
   "id": "f643cae9",
   "metadata": {},
   "outputs": [],
   "source": [
    "# class A:\n",
    "#     pass\n",
    "\n",
    "# class B(A):\n",
    "#     pass\n",
    "\n",
    "# obj = B(A)"
   ]
  },
  {
   "cell_type": "code",
   "execution_count": 4,
   "id": "a250dd99",
   "metadata": {},
   "outputs": [
    {
     "name": "stdout",
     "output_type": "stream",
     "text": [
      "Enter name = jargha\n",
      "Enter age = 22\n",
      "Enter add = harisiddhi\n",
      "Hello World I am jargha. I am from harisiddhi. I am 22\n"
     ]
    }
   ],
   "source": [
    "class Info:\n",
    "    def __init__(self):\n",
    "        self.name = input(\"Enter name = \")\n",
    "        self.age = int(input(\"Enter age = \"))\n",
    "        self.add = input(\"Enter add = \")\n",
    "\n",
    "class Data(Info):\n",
    "    def data(self):\n",
    "        print(f\"Hello World I am {self.name}. I am from {self.add}. I am {self.age}\")\n",
    "\n",
    "obj = Data()\n",
    "obj.data()"
   ]
  },
  {
   "cell_type": "code",
   "execution_count": 6,
   "id": "8f111c41",
   "metadata": {},
   "outputs": [
    {
     "name": "stdout",
     "output_type": "stream",
     "text": [
      "Enter name = jargha\n",
      "Enter age = 22\n",
      "Enter add = harisiddhi\n",
      "Hello World I am jargha. I am from harisiddhi. I am 22\n"
     ]
    }
   ],
   "source": [
    "class Info:\n",
    "    def __init__(self,age,add):\n",
    "        self.age = age\n",
    "        self.add = add\n",
    "        \n",
    "    def info(self):\n",
    "        print(self.age,self.add)\n",
    "        \n",
    "\n",
    "class Data(Info):\n",
    "    def __init__(self,name,age,add):\n",
    "        self.name = name\n",
    "        Info.__init__(self,age,add)\n",
    "        \n",
    "    def data(self):\n",
    "        print(f\"Hello World I am {self.name}. I am from {self.add}. I am {self.age}\")\n",
    "        \n",
    "name = input(\"Enter name = \")\n",
    "age = int(input(\"Enter age = \"))\n",
    "add = input(\"Enter add = \")\n",
    "\n",
    "obj = Data(name,age,add)\n",
    "obj.data()"
   ]
  },
  {
   "cell_type": "code",
   "execution_count": null,
   "id": "76679b18",
   "metadata": {},
   "outputs": [],
   "source": [
    "# multiple inheritance\n",
    "# class A:\n",
    "#     pass\n",
    "# class B(A):\n",
    "#     pass\n",
    "# class C(B):\n",
    "#     pass\n",
    "\n",
    "# obj = C()"
   ]
  },
  {
   "cell_type": "code",
   "execution_count": null,
   "id": "6ed30f0c",
   "metadata": {},
   "outputs": [],
   "source": [
    "# class A:\n",
    "#     pass\n",
    "# class B:\n",
    "#     pass\n",
    "# class C(A,B):\n",
    "#     pass\n",
    "\n",
    "# obj = C()"
   ]
  },
  {
   "cell_type": "code",
   "execution_count": 7,
   "id": "125b6df5",
   "metadata": {},
   "outputs": [
    {
     "name": "stdout",
     "output_type": "stream",
     "text": [
      "Enter name = jargha\n",
      "Enter age = 22\n",
      "Enter add = harisiddhi\n",
      "Hello World I am jargha. I am from harisiddhi. I am 22\n"
     ]
    }
   ],
   "source": [
    "class Add:\n",
    "    def __init__(self,add):\n",
    "        self.add = add\n",
    "    \n",
    "class Age(Add):\n",
    "    def __init__(self,age,add):\n",
    "        self.age = age\n",
    "        Add.__init__(self,add)\n",
    "\n",
    "class Data(Age):\n",
    "    def __init__(self,name,age,add):\n",
    "        self.name = name\n",
    "        Age.__init__(self,age,add)\n",
    "        \n",
    "    def data(self):\n",
    "        print(f\"Hello World I am {self.name}. I am from {self.add}. I am {self.age}\")\n",
    "        \n",
    "name = input(\"Enter name = \")\n",
    "age = int(input(\"Enter age = \"))\n",
    "add = input(\"Enter add = \")\n",
    "\n",
    "obj = Data(name,age,add)\n",
    "obj.data()"
   ]
  },
  {
   "cell_type": "code",
   "execution_count": 8,
   "id": "92b76560",
   "metadata": {},
   "outputs": [
    {
     "name": "stdout",
     "output_type": "stream",
     "text": [
      "Enter name = jarghaa\n",
      "Enter age = 22\n",
      "Enter add = harisiddhi\n",
      "Hello World I am jarghaa. I am from harisiddhi. I am 22\n"
     ]
    }
   ],
   "source": [
    "class Add:\n",
    "    def __init__(self,add):\n",
    "        self.add = add\n",
    "        \n",
    "    def add(self):\n",
    "        print(self.add)\n",
    "    \n",
    "class Age:\n",
    "    def __init__(self,age):\n",
    "        self.age = age\n",
    "        \n",
    "    def age(self):\n",
    "        print(self.age)\n",
    "\n",
    "class Data(Add,Age):\n",
    "    def __init__(self,name,age,add):\n",
    "        self.name = name\n",
    "\n",
    "        Add.__init__(self,add)\n",
    "        Age.__init__(self,age)\n",
    "        \n",
    "    def data(self):\n",
    "        print(f\"Hello World I am {self.name}. I am from {self.add}. I am {self.age}\")\n",
    "        \n",
    "name = input(\"Enter name = \")\n",
    "age = int(input(\"Enter age = \"))\n",
    "add = input(\"Enter add = \")\n",
    "\n",
    "obj = Data(name,age,add)\n",
    "obj.data()"
   ]
  },
  {
   "cell_type": "code",
   "execution_count": null,
   "id": "d924e999",
   "metadata": {},
   "outputs": [],
   "source": [
    "# public member\n",
    "class Info:\n",
    "    def __init__(self):\n",
    "        self.name = 'Jargha'\n",
    "        self.age = 22\n",
    "        self.add = 'Harisiddhi'\n",
    "print(obj.name)\n",
    "print(obj.age)\n",
    "print(obj.add)"
   ]
  },
  {
   "cell_type": "code",
   "execution_count": 11,
   "id": "b469e194",
   "metadata": {},
   "outputs": [
    {
     "name": "stdout",
     "output_type": "stream",
     "text": [
      "Para\n",
      "22\n",
      "Bara\n"
     ]
    }
   ],
   "source": [
    "# public member\n",
    "class Info:\n",
    "    def __init__(self):\n",
    "        self.name = 'Para'\n",
    "        self.age = 22\n",
    "        self.add = 'Bara'\n",
    "obj = Info()\n",
    "print(obj.name)\n",
    "print(obj.age)\n",
    "print(obj.add)"
   ]
  },
  {
   "cell_type": "code",
   "execution_count": 14,
   "id": "f493860d",
   "metadata": {},
   "outputs": [
    {
     "name": "stdout",
     "output_type": "stream",
     "text": [
      "Tara\n",
      "22\n",
      "Bara\n"
     ]
    }
   ],
   "source": [
    "# protected member\n",
    "class Info:\n",
    "    def __init__(self):\n",
    "        self._name = 'Tara'\n",
    "        self._age = 22\n",
    "        self._add = 'Bara'\n",
    "obj = Info()\n",
    "print(obj._name)\n",
    "print(obj._age)\n",
    "print(obj._add)"
   ]
  },
  {
   "cell_type": "code",
   "execution_count": 8,
   "id": "53da5eed",
   "metadata": {},
   "outputs": [
    {
     "ename": "AttributeError",
     "evalue": "'Info' object has no attribute '__name'",
     "output_type": "error",
     "traceback": [
      "\u001b[0;31m---------------------------------------------------------------------------\u001b[0m",
      "\u001b[0;31mAttributeError\u001b[0m                            Traceback (most recent call last)",
      "\u001b[0;32m/var/folders/6p/z3xlv3gs3l75_5kcgj0sgj4c0000gn/T/ipykernel_44145/2046286395.py\u001b[0m in \u001b[0;36m<module>\u001b[0;34m\u001b[0m\n\u001b[1;32m      6\u001b[0m         \u001b[0mself\u001b[0m\u001b[0;34m.\u001b[0m\u001b[0m__add\u001b[0m \u001b[0;34m=\u001b[0m \u001b[0;34m'Bara'\u001b[0m\u001b[0;34m\u001b[0m\u001b[0;34m\u001b[0m\u001b[0m\n\u001b[1;32m      7\u001b[0m \u001b[0mobj\u001b[0m \u001b[0;34m=\u001b[0m \u001b[0mInfo\u001b[0m\u001b[0;34m(\u001b[0m\u001b[0;34m)\u001b[0m\u001b[0;34m\u001b[0m\u001b[0;34m\u001b[0m\u001b[0m\n\u001b[0;32m----> 8\u001b[0;31m \u001b[0mobj\u001b[0m\u001b[0;34m.\u001b[0m\u001b[0m__name\u001b[0m\u001b[0;34m\u001b[0m\u001b[0;34m\u001b[0m\u001b[0m\n\u001b[0m\u001b[1;32m      9\u001b[0m \u001b[0mobj\u001b[0m\u001b[0;34m.\u001b[0m\u001b[0m__age\u001b[0m\u001b[0;34m\u001b[0m\u001b[0;34m\u001b[0m\u001b[0m\n\u001b[1;32m     10\u001b[0m \u001b[0mobj\u001b[0m\u001b[0;34m.\u001b[0m\u001b[0m__add\u001b[0m\u001b[0;34m\u001b[0m\u001b[0;34m\u001b[0m\u001b[0m\n",
      "\u001b[0;31mAttributeError\u001b[0m: 'Info' object has no attribute '__name'"
     ]
    }
   ],
   "source": [
    "# private member\n",
    "class Info:\n",
    "    def __init__(self):\n",
    "        self.__name = 'Mara'\n",
    "        self.__age = 24\n",
    "        self.__add = 'Bara'\n",
    "obj = Info()\n",
    "obj.__name\n",
    "obj.__age\n",
    "obj.__add"
   ]
  },
  {
   "cell_type": "code",
   "execution_count": null,
   "id": "f99dcda9",
   "metadata": {},
   "outputs": [],
   "source": []
  },
  {
   "cell_type": "code",
   "execution_count": 3,
   "id": "f2150f55",
   "metadata": {},
   "outputs": [
    {
     "name": "stdout",
     "output_type": "stream",
     "text": [
      "Enter name = anuj\n",
      "Enter age = 23\n",
      "Enter add = harisiddhi\n",
      "Hello World I am anuj. I am 23\n",
      "Hello World I am anuj. I am 23. I am frm harisiddhi.\n"
     ]
    }
   ],
   "source": [
    "class Info:\n",
    "    def __init__(self,name,age,add):\n",
    "        self.name = name\n",
    "        self._age = age#protected\n",
    "        self.__add = add#private\n",
    "        \n",
    "    def info(self):\n",
    "        print(f\"Hello World I am {self.name}. I am {self._age}. I am from {self.__add}.\")\n",
    "        \n",
    "\n",
    "class Data(Info):\n",
    "        \n",
    "    def data(self):\n",
    "        print(f\"Hello World I am {self.name}. I am {self._age}\")\n",
    "        \n",
    "name = input(\"Enter name = \")\n",
    "age = int(input(\"Enter age = \"))\n",
    "add = input(\"Enter add = \")\n",
    "\n",
    "obj = Data(name,age,add)\n",
    "obj.data()\n",
    "obj.info()"
   ]
  },
  {
   "cell_type": "code",
   "execution_count": 5,
   "id": "9d8a514a",
   "metadata": {},
   "outputs": [
    {
     "name": "stdout",
     "output_type": "stream",
     "text": [
      "Enter name = pele\n",
      "Enter age = 50\n",
      "Enter add = brazil\n",
      "Hello World I am pele.\n",
      "50\n",
      "brazil\n"
     ]
    }
   ],
   "source": [
    "class Add:\n",
    "    def __init__(self,add):\n",
    "        self.__add = add\n",
    "        \n",
    "    def add(self):\n",
    "        print(self.__add)\n",
    "    \n",
    "class Age:\n",
    "    def __init__(self,age):\n",
    "        self.__age = age\n",
    "        \n",
    "    def age(self):\n",
    "        print(self.__age)\n",
    "\n",
    "class Data(Add,Age):\n",
    "    def __init__(self,name,age,add):\n",
    "        self.name = name\n",
    "\n",
    "        Add.__init__(self,add)\n",
    "        Age.__init__(self,age)\n",
    "        \n",
    "    def data(self):\n",
    "        print(f\"Hello World I am {self.name}.\")\n",
    "        \n",
    "name = input(\"Enter name = \")\n",
    "age = int(input(\"Enter age = \"))\n",
    "add = input(\"Enter add = \")\n",
    "\n",
    "obj = Data(name,age,add)\n",
    "obj.data()\n",
    "obj.age()\n",
    "obj.add()"
   ]
  },
  {
   "cell_type": "code",
   "execution_count": 10,
   "id": "ada0429c",
   "metadata": {},
   "outputs": [
    {
     "name": "stdout",
     "output_type": "stream",
     "text": [
      "Enter name = Kara\n",
      "Enter age = 43\n",
      "Enter add = china\n",
      "Hello World I am Kara. I am from china. I am 43\n",
      "43 china\n"
     ]
    }
   ],
   "source": [
    "class Info:\n",
    "    def __init__(self,age,add):\n",
    "        self.age = age\n",
    "        self.add = add\n",
    "        \n",
    "    def info(self):\n",
    "        print(self.age,self.add)\n",
    "        \n",
    "\n",
    "class Data(Info):\n",
    "    def __init__(self,name,age,add):\n",
    "        self.name = name\n",
    "        Info.__init__(self,age,add)\n",
    "        \n",
    "    def data(self):\n",
    "        print(f\"Hello World I am {self.name}. I am from {self.add}. I am {self.age}\")\n",
    "        super().info() # super function\n",
    "        \n",
    "name = input(\"Enter name = \")\n",
    "age = int(input(\"Enter age = \"))\n",
    "add = input(\"Enter add = \")\n",
    "\n",
    "obj = Data(name,age,add)\n",
    "obj.data()"
   ]
  },
  {
   "cell_type": "code",
   "execution_count": 15,
   "id": "722fedd1",
   "metadata": {},
   "outputs": [
    {
     "name": "stdout",
     "output_type": "stream",
     "text": [
      "<class '__main__.Info'>\n",
      "Aara\n"
     ]
    }
   ],
   "source": [
    "# __str__ method\n",
    "class Info:\n",
    "    def __init__(self):\n",
    "        self.name = 'Aara'\n",
    "        self.age = 22\n",
    "        self.add = 'Bara'\n",
    "        \n",
    "    def __str__(self):\n",
    "        return self.name\n",
    "        \n",
    "obj = Info()\n",
    "\n",
    "print(type(obj))\n",
    "print(obj)"
   ]
  },
  {
   "cell_type": "code",
   "execution_count": 19,
   "id": "cac23efe",
   "metadata": {},
   "outputs": [
    {
     "name": "stdout",
     "output_type": "stream",
     "text": [
      "Parrot can fly\n",
      "Penguin cann't fly\n",
      "Parrot cann't swim\n",
      "Penguin can swim\n"
     ]
    }
   ],
   "source": [
    "# polymorphism\n",
    "# object as argument\n",
    "class Parrot:\n",
    "    def fly(self):\n",
    "        print(\"Parrot can fly\")\n",
    "    def swim(self):\n",
    "        print(\"Parrot cann't swim\")\n",
    "        \n",
    "class Penguin:\n",
    "    def fly(self):\n",
    "        print(\"Penguin cann't fly\")\n",
    "    def swim(self):\n",
    "        print(\"Penguin can swim\")\n",
    "        \n",
    "# common interface\n",
    "def flying_test(bird):\n",
    "    bird.fly()\n",
    "def swimming_test(bird):\n",
    "    bird.swim()\n",
    "    \n",
    "# instantiate objects\n",
    "green = Parrot()\n",
    "black = Penguin()\n",
    "# Passing the objects\n",
    "flying_test(green)\n",
    "flying_test(black)\n",
    "\n",
    "swimming_test(green)\n",
    "swimming_test(black)"
   ]
  },
  {
   "cell_type": "code",
   "execution_count": null,
   "id": "f9ec31ec",
   "metadata": {},
   "outputs": [],
   "source": []
  }
 ],
 "metadata": {
  "kernelspec": {
   "display_name": "Python 3 (ipykernel)",
   "language": "python",
   "name": "python3"
  },
  "language_info": {
   "codemirror_mode": {
    "name": "ipython",
    "version": 3
   },
   "file_extension": ".py",
   "mimetype": "text/x-python",
   "name": "python",
   "nbconvert_exporter": "python",
   "pygments_lexer": "ipython3",
   "version": "3.9.13"
  }
 },
 "nbformat": 4,
 "nbformat_minor": 5
}
